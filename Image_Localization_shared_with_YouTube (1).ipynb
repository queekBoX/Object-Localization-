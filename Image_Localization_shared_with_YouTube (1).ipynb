{
  "nbformat": 4,
  "nbformat_minor": 0,
  "metadata": {
    "colab": {
      "provenance": [],
      "machine_shape": "hm",
      "gpuClass": "premium"
    },
    "kernelspec": {
      "name": "python3",
      "display_name": "Python 3"
    },
    "language_info": {
      "name": "python"
    },
    "gpuClass": "premium"
  },
  "cells": [
    {
      "cell_type": "code",
      "source": [
        "!git clone https://github.com/ayulockin/synthetic_datasets\n",
        "%cd synthetic_datasets/MNIST/\n",
        "%mkdir images\n",
        "\n",
        "\n",
        "!unzip -q MNIST_Converted_Training.zip -d images/\n",
        "!unzip -q MNIST_Converted_Testing.zip -d images/"
      ],
      "metadata": {
        "colab": {
          "base_uri": "https://localhost:8080/"
        },
        "id": "ohUD0TBvw8TA",
        "outputId": "c1fe1650-1491-47a8-eee3-10c4b8d3f87c"
      },
      "execution_count": null,
      "outputs": [
        {
          "output_type": "stream",
          "name": "stdout",
          "text": [
            "Cloning into 'synthetic_datasets'...\n",
            "remote: Enumerating objects: 42, done.\u001b[K\n",
            "remote: Counting objects: 100% (3/3), done.\u001b[K\n",
            "remote: Compressing objects: 100% (2/2), done.\u001b[K\n",
            "remote: Total 42 (delta 1), reused 1 (delta 1), pack-reused 39\u001b[K\n",
            "Unpacking objects: 100% (42/42), done.\n",
            "/content/synthetic_datasets/MNIST\n"
          ]
        }
      ]
    },
    {
      "cell_type": "code",
      "source": [
        "%cd ../.."
      ],
      "metadata": {
        "colab": {
          "base_uri": "https://localhost:8080/"
        },
        "id": "fb8Y8TLryCJI",
        "outputId": "ed438a67-4bed-446d-b58d-0b3ea277ce5c"
      },
      "execution_count": null,
      "outputs": [
        {
          "output_type": "stream",
          "name": "stdout",
          "text": [
            "/content\n"
          ]
        }
      ]
    },
    {
      "cell_type": "code",
      "source": [
        "import pandas as pd\n",
        "from os import path\n",
        "\n",
        "S = 'synthetic_datasets'\n",
        "M = 'MNIST'\n",
        "I = 'images'\n",
        "\n",
        "train_df = pd.read_csv(path.join(S, M, 'training_data.csv'), header=None)\n",
        "columns = ['path', 'class_index', 'xmin', 'ymin', 'xmax', 'ymax']\n",
        "\n",
        "train_df.columns = columns\n",
        "\n",
        "test_df = pd.read_csv(path.join(S, M, 'test_data.csv'), header=None)\n",
        "test_df.columns = columns\n",
        "\n",
        "t = 'MNIST_Converted_Training'\n",
        "train_df['path'] = train_df['path'].apply(lambda s: path.join(S, M, I, t, s))\n",
        "\n",
        "t = 'MNIST_Converted_Testing'\n",
        "test_df['path'] = test_df['path'].apply(lambda s: path.join(S, M, I, t, s))\n",
        "\n",
        "test_df"
      ],
      "metadata": {
        "colab": {
          "base_uri": "https://localhost:8080/",
          "height": 424
        },
        "id": "bMnrmucvxK0r",
        "outputId": "90f915d2-67e4-4d8c-e057-312b42f752e3"
      },
      "execution_count": null,
      "outputs": [
        {
          "output_type": "execute_result",
          "data": {
            "text/plain": [
              "                                                   path  class_index  xmin  \\\n",
              "0     synthetic_datasets/MNIST/images/MNIST_Converte...            2  0.20   \n",
              "1     synthetic_datasets/MNIST/images/MNIST_Converte...            0  0.02   \n",
              "2     synthetic_datasets/MNIST/images/MNIST_Converte...            4  0.55   \n",
              "3     synthetic_datasets/MNIST/images/MNIST_Converte...            8  0.38   \n",
              "4     synthetic_datasets/MNIST/images/MNIST_Converte...            7  0.69   \n",
              "...                                                 ...          ...   ...   \n",
              "9995  synthetic_datasets/MNIST/images/MNIST_Converte...            5  0.46   \n",
              "9996  synthetic_datasets/MNIST/images/MNIST_Converte...            9  0.54   \n",
              "9997  synthetic_datasets/MNIST/images/MNIST_Converte...            8  0.50   \n",
              "9998  synthetic_datasets/MNIST/images/MNIST_Converte...            0  0.62   \n",
              "9999  synthetic_datasets/MNIST/images/MNIST_Converte...            5  0.41   \n",
              "\n",
              "      ymin  xmax  ymax  \n",
              "0     0.45  0.48  0.73  \n",
              "1     0.03  0.30  0.31  \n",
              "2     0.39  0.83  0.67  \n",
              "3     0.42  0.66  0.70  \n",
              "4     0.17  0.97  0.45  \n",
              "...    ...   ...   ...  \n",
              "9995  0.34  0.74  0.62  \n",
              "9996  0.25  0.82  0.53  \n",
              "9997  0.32  0.78  0.60  \n",
              "9998  0.61  0.90  0.89  \n",
              "9999  0.53  0.69  0.81  \n",
              "\n",
              "[10000 rows x 6 columns]"
            ],
            "text/html": [
              "\n",
              "  <div id=\"df-5c195b2a-906c-4856-a8b0-c1b8912e3e30\">\n",
              "    <div class=\"colab-df-container\">\n",
              "      <div>\n",
              "<style scoped>\n",
              "    .dataframe tbody tr th:only-of-type {\n",
              "        vertical-align: middle;\n",
              "    }\n",
              "\n",
              "    .dataframe tbody tr th {\n",
              "        vertical-align: top;\n",
              "    }\n",
              "\n",
              "    .dataframe thead th {\n",
              "        text-align: right;\n",
              "    }\n",
              "</style>\n",
              "<table border=\"1\" class=\"dataframe\">\n",
              "  <thead>\n",
              "    <tr style=\"text-align: right;\">\n",
              "      <th></th>\n",
              "      <th>path</th>\n",
              "      <th>class_index</th>\n",
              "      <th>xmin</th>\n",
              "      <th>ymin</th>\n",
              "      <th>xmax</th>\n",
              "      <th>ymax</th>\n",
              "    </tr>\n",
              "  </thead>\n",
              "  <tbody>\n",
              "    <tr>\n",
              "      <th>0</th>\n",
              "      <td>synthetic_datasets/MNIST/images/MNIST_Converte...</td>\n",
              "      <td>2</td>\n",
              "      <td>0.20</td>\n",
              "      <td>0.45</td>\n",
              "      <td>0.48</td>\n",
              "      <td>0.73</td>\n",
              "    </tr>\n",
              "    <tr>\n",
              "      <th>1</th>\n",
              "      <td>synthetic_datasets/MNIST/images/MNIST_Converte...</td>\n",
              "      <td>0</td>\n",
              "      <td>0.02</td>\n",
              "      <td>0.03</td>\n",
              "      <td>0.30</td>\n",
              "      <td>0.31</td>\n",
              "    </tr>\n",
              "    <tr>\n",
              "      <th>2</th>\n",
              "      <td>synthetic_datasets/MNIST/images/MNIST_Converte...</td>\n",
              "      <td>4</td>\n",
              "      <td>0.55</td>\n",
              "      <td>0.39</td>\n",
              "      <td>0.83</td>\n",
              "      <td>0.67</td>\n",
              "    </tr>\n",
              "    <tr>\n",
              "      <th>3</th>\n",
              "      <td>synthetic_datasets/MNIST/images/MNIST_Converte...</td>\n",
              "      <td>8</td>\n",
              "      <td>0.38</td>\n",
              "      <td>0.42</td>\n",
              "      <td>0.66</td>\n",
              "      <td>0.70</td>\n",
              "    </tr>\n",
              "    <tr>\n",
              "      <th>4</th>\n",
              "      <td>synthetic_datasets/MNIST/images/MNIST_Converte...</td>\n",
              "      <td>7</td>\n",
              "      <td>0.69</td>\n",
              "      <td>0.17</td>\n",
              "      <td>0.97</td>\n",
              "      <td>0.45</td>\n",
              "    </tr>\n",
              "    <tr>\n",
              "      <th>...</th>\n",
              "      <td>...</td>\n",
              "      <td>...</td>\n",
              "      <td>...</td>\n",
              "      <td>...</td>\n",
              "      <td>...</td>\n",
              "      <td>...</td>\n",
              "    </tr>\n",
              "    <tr>\n",
              "      <th>9995</th>\n",
              "      <td>synthetic_datasets/MNIST/images/MNIST_Converte...</td>\n",
              "      <td>5</td>\n",
              "      <td>0.46</td>\n",
              "      <td>0.34</td>\n",
              "      <td>0.74</td>\n",
              "      <td>0.62</td>\n",
              "    </tr>\n",
              "    <tr>\n",
              "      <th>9996</th>\n",
              "      <td>synthetic_datasets/MNIST/images/MNIST_Converte...</td>\n",
              "      <td>9</td>\n",
              "      <td>0.54</td>\n",
              "      <td>0.25</td>\n",
              "      <td>0.82</td>\n",
              "      <td>0.53</td>\n",
              "    </tr>\n",
              "    <tr>\n",
              "      <th>9997</th>\n",
              "      <td>synthetic_datasets/MNIST/images/MNIST_Converte...</td>\n",
              "      <td>8</td>\n",
              "      <td>0.50</td>\n",
              "      <td>0.32</td>\n",
              "      <td>0.78</td>\n",
              "      <td>0.60</td>\n",
              "    </tr>\n",
              "    <tr>\n",
              "      <th>9998</th>\n",
              "      <td>synthetic_datasets/MNIST/images/MNIST_Converte...</td>\n",
              "      <td>0</td>\n",
              "      <td>0.62</td>\n",
              "      <td>0.61</td>\n",
              "      <td>0.90</td>\n",
              "      <td>0.89</td>\n",
              "    </tr>\n",
              "    <tr>\n",
              "      <th>9999</th>\n",
              "      <td>synthetic_datasets/MNIST/images/MNIST_Converte...</td>\n",
              "      <td>5</td>\n",
              "      <td>0.41</td>\n",
              "      <td>0.53</td>\n",
              "      <td>0.69</td>\n",
              "      <td>0.81</td>\n",
              "    </tr>\n",
              "  </tbody>\n",
              "</table>\n",
              "<p>10000 rows × 6 columns</p>\n",
              "</div>\n",
              "      <button class=\"colab-df-convert\" onclick=\"convertToInteractive('df-5c195b2a-906c-4856-a8b0-c1b8912e3e30')\"\n",
              "              title=\"Convert this dataframe to an interactive table.\"\n",
              "              style=\"display:none;\">\n",
              "        \n",
              "  <svg xmlns=\"http://www.w3.org/2000/svg\" height=\"24px\"viewBox=\"0 0 24 24\"\n",
              "       width=\"24px\">\n",
              "    <path d=\"M0 0h24v24H0V0z\" fill=\"none\"/>\n",
              "    <path d=\"M18.56 5.44l.94 2.06.94-2.06 2.06-.94-2.06-.94-.94-2.06-.94 2.06-2.06.94zm-11 1L8.5 8.5l.94-2.06 2.06-.94-2.06-.94L8.5 2.5l-.94 2.06-2.06.94zm10 10l.94 2.06.94-2.06 2.06-.94-2.06-.94-.94-2.06-.94 2.06-2.06.94z\"/><path d=\"M17.41 7.96l-1.37-1.37c-.4-.4-.92-.59-1.43-.59-.52 0-1.04.2-1.43.59L10.3 9.45l-7.72 7.72c-.78.78-.78 2.05 0 2.83L4 21.41c.39.39.9.59 1.41.59.51 0 1.02-.2 1.41-.59l7.78-7.78 2.81-2.81c.8-.78.8-2.07 0-2.86zM5.41 20L4 18.59l7.72-7.72 1.47 1.35L5.41 20z\"/>\n",
              "  </svg>\n",
              "      </button>\n",
              "      \n",
              "  <style>\n",
              "    .colab-df-container {\n",
              "      display:flex;\n",
              "      flex-wrap:wrap;\n",
              "      gap: 12px;\n",
              "    }\n",
              "\n",
              "    .colab-df-convert {\n",
              "      background-color: #E8F0FE;\n",
              "      border: none;\n",
              "      border-radius: 50%;\n",
              "      cursor: pointer;\n",
              "      display: none;\n",
              "      fill: #1967D2;\n",
              "      height: 32px;\n",
              "      padding: 0 0 0 0;\n",
              "      width: 32px;\n",
              "    }\n",
              "\n",
              "    .colab-df-convert:hover {\n",
              "      background-color: #E2EBFA;\n",
              "      box-shadow: 0px 1px 2px rgba(60, 64, 67, 0.3), 0px 1px 3px 1px rgba(60, 64, 67, 0.15);\n",
              "      fill: #174EA6;\n",
              "    }\n",
              "\n",
              "    [theme=dark] .colab-df-convert {\n",
              "      background-color: #3B4455;\n",
              "      fill: #D2E3FC;\n",
              "    }\n",
              "\n",
              "    [theme=dark] .colab-df-convert:hover {\n",
              "      background-color: #434B5C;\n",
              "      box-shadow: 0px 1px 3px 1px rgba(0, 0, 0, 0.15);\n",
              "      filter: drop-shadow(0px 1px 2px rgba(0, 0, 0, 0.3));\n",
              "      fill: #FFFFFF;\n",
              "    }\n",
              "  </style>\n",
              "\n",
              "      <script>\n",
              "        const buttonEl =\n",
              "          document.querySelector('#df-5c195b2a-906c-4856-a8b0-c1b8912e3e30 button.colab-df-convert');\n",
              "        buttonEl.style.display =\n",
              "          google.colab.kernel.accessAllowed ? 'block' : 'none';\n",
              "\n",
              "        async function convertToInteractive(key) {\n",
              "          const element = document.querySelector('#df-5c195b2a-906c-4856-a8b0-c1b8912e3e30');\n",
              "          const dataTable =\n",
              "            await google.colab.kernel.invokeFunction('convertToInteractive',\n",
              "                                                     [key], {});\n",
              "          if (!dataTable) return;\n",
              "\n",
              "          const docLinkHtml = 'Like what you see? Visit the ' +\n",
              "            '<a target=\"_blank\" href=https://colab.research.google.com/notebooks/data_table.ipynb>data table notebook</a>'\n",
              "            + ' to learn more about interactive tables.';\n",
              "          element.innerHTML = '';\n",
              "          dataTable['output_type'] = 'display_data';\n",
              "          await google.colab.output.renderOutput(dataTable, element);\n",
              "          const docLink = document.createElement('div');\n",
              "          docLink.innerHTML = docLinkHtml;\n",
              "          element.appendChild(docLink);\n",
              "        }\n",
              "      </script>\n",
              "    </div>\n",
              "  </div>\n",
              "  "
            ]
          },
          "metadata": {},
          "execution_count": 3
        }
      ]
    },
    {
      "cell_type": "code",
      "source": [
        "row_1 = train_df.iloc[0].to_numpy().tolist()\n",
        "row_1"
      ],
      "metadata": {
        "colab": {
          "base_uri": "https://localhost:8080/"
        },
        "id": "Sk9bA1DyZlmV",
        "outputId": "41b77108-b991-4119-89e3-83eab9b6aa25"
      },
      "execution_count": null,
      "outputs": [
        {
          "output_type": "execute_result",
          "data": {
            "text/plain": [
              "['synthetic_datasets/MNIST/images/MNIST_Converted_Training/converted_training1.png',\n",
              " 4,\n",
              " 0.49,\n",
              " 0.15,\n",
              " 0.77,\n",
              " 0.43]"
            ]
          },
          "metadata": {},
          "execution_count": 4
        }
      ]
    },
    {
      "cell_type": "code",
      "source": [
        "import tensorflow as tf\n",
        "import matplotlib.pyplot as plt\n",
        "import numpy as np\n",
        "\n",
        "def load_image_for_vis(image_path):\n",
        "  image = tf.io.read_file(image_path)\n",
        "  image = tf.image.decode_png(image, channels=1)\n",
        "  image = tf.image.grayscale_to_rgb(image)\n",
        "  image = image.numpy().astype(np.uint8)\n",
        "  return image\n",
        "\n",
        "plt.imshow(load_image_for_vis(row_1[0]))"
      ],
      "metadata": {
        "colab": {
          "base_uri": "https://localhost:8080/",
          "height": 285
        },
        "id": "kBpvHfLEaCFj",
        "outputId": "994747dd-bc41-4ec8-c8d8-e0fcf6e4bb4b"
      },
      "execution_count": null,
      "outputs": [
        {
          "output_type": "execute_result",
          "data": {
            "text/plain": [
              "<matplotlib.image.AxesImage at 0x7f21dc648a50>"
            ]
          },
          "metadata": {},
          "execution_count": 5
        },
        {
          "output_type": "display_data",
          "data": {
            "text/plain": [
              "<Figure size 432x288 with 1 Axes>"
            ],
            "image/png": "[encoded data removed]"
          },
          "metadata": {
            "needs_background": "light"
          }
        }
      ]
    },
    {
      "cell_type": "code",
      "source": [
        "import matplotlib.patches as patches\n",
        "from PIL import Image\n",
        "\n",
        "im = load_image_for_vis(row_1[0])\n",
        "fig, ax = plt.subplots()\n",
        "ax.imshow(im)\n",
        "\n",
        "x1, y1, x2, y2 = [int(v*100) for v in row_1[2:]]\n",
        "print(x1, y1, x2, y2)\n",
        "width = x2 - x1\n",
        "height = y2 - y1\n",
        "\n",
        "print(width, height)\n",
        "# x, y, width, height\n",
        "rect = patches.Rectangle((x1, y1), width, height, linewidth=1, edgecolor='r', facecolor='none')\n",
        "ax.add_patch(rect)\n",
        "\n",
        "plt.show()"
      ],
      "metadata": {
        "colab": {
          "base_uri": "https://localhost:8080/",
          "height": 303
        },
        "id": "dTG1pgqqbL6V",
        "outputId": "71c5fa75-055c-42e7-da94-c5e081dbb634"
      },
      "execution_count": null,
      "outputs": [
        {
          "output_type": "stream",
          "name": "stdout",
          "text": [
            "49 15 77 43\n",
            "28 28\n"
          ]
        },
        {
          "output_type": "display_data",
          "data": {
            "text/plain": [
              "<Figure size 432x288 with 1 Axes>"
            ],
            "image/png": "[encoded data removed]"
          },
          "metadata": {
            "needs_background": "light"
          }
        }
      ]
    },
    {
      "cell_type": "code",
      "source": [
        "len(test_df)"
      ],
      "metadata": {
        "colab": {
          "base_uri": "https://localhost:8080/"
        },
        "id": "bHuZI7Y11K8s",
        "outputId": "e52fdc68-2114-40ec-b698-a25a0af22f13"
      },
      "execution_count": null,
      "outputs": [
        {
          "output_type": "execute_result",
          "data": {
            "text/plain": [
              "10000"
            ]
          },
          "metadata": {},
          "execution_count": 7
        }
      ]
    },
    {
      "cell_type": "code",
      "source": [
        "train_df['class_index'].value_counts()"
      ],
      "metadata": {
        "colab": {
          "base_uri": "https://localhost:8080/"
        },
        "id": "DiNNUXD2clwh",
        "outputId": "f2c5fa32-8422-4308-bb3a-a3ccd0b25895"
      },
      "execution_count": null,
      "outputs": [
        {
          "output_type": "execute_result",
          "data": {
            "text/plain": [
              "1    6742\n",
              "7    6265\n",
              "3    6131\n",
              "2    5958\n",
              "9    5949\n",
              "0    5923\n",
              "6    5918\n",
              "8    5851\n",
              "4    5842\n",
              "5    5421\n",
              "Name: class_index, dtype: int64"
            ]
          },
          "metadata": {},
          "execution_count": 8
        }
      ]
    },
    {
      "cell_type": "code",
      "source": [
        "val_df, test_df = test_df[:5000], test_df[5000:]\n",
        "\n",
        "len(val_df), len(test_df)"
      ],
      "metadata": {
        "colab": {
          "base_uri": "https://localhost:8080/"
        },
        "id": "CeEu-MbJNJIQ",
        "outputId": "104a40e0-5b2e-43fe-f209-b22c629bbb09"
      },
      "execution_count": null,
      "outputs": [
        {
          "output_type": "execute_result",
          "data": {
            "text/plain": [
              "(5000, 5000)"
            ]
          },
          "metadata": {},
          "execution_count": 9
        }
      ]
    },
    {
      "cell_type": "code",
      "source": [
        "box_columns = ['xmin', 'ymin', 'xmax', 'ymax']\n",
        "\n",
        "boxes_train = train_df[box_columns].to_numpy()\n",
        "boxes_val =  val_df[box_columns].to_numpy()\n",
        "boxes_test = test_df[box_columns].to_numpy()\n",
        "\n",
        "class_indexes_train = train_df['class_index'].to_numpy()\n",
        "class_indexes_val = val_df['class_index'].to_numpy()\n",
        "class_indexes_test = test_df['class_index'].to_numpy()"
      ],
      "metadata": {
        "id": "Exk-luDJ1cM6"
      },
      "execution_count": null,
      "outputs": []
    },
    {
      "cell_type": "code",
      "source": [
        "import tensorflow as tf\n",
        "\n",
        "@tf.function\n",
        "def load_image(image_path, label_dict):\n",
        "  image = tf.io.read_file(image_path)\n",
        "  image = tf.image.decode_png(image, channels=1)\n",
        "  image = tf.image.grayscale_to_rgb(image)\n",
        "  return (image, label_dict)"
      ],
      "metadata": {
        "id": "V1s3Au5-2bHS"
      },
      "execution_count": null,
      "outputs": []
    },
    {
      "cell_type": "code",
      "source": [
        "train_dataset = tf.data.Dataset.from_tensor_slices((train_df['path'].tolist(),\n",
        "                                                    {'box': boxes_train,\n",
        "                                                     'class': class_indexes_train}))\n",
        "train_dataset"
      ],
      "metadata": {
        "colab": {
          "base_uri": "https://localhost:8080/"
        },
        "id": "bgqnVzmNXFYv",
        "outputId": "43d82dfa-5484-4681-db53-ad4d899aeabd"
      },
      "execution_count": null,
      "outputs": [
        {
          "output_type": "execute_result",
          "data": {
            "text/plain": [
              "<TensorSliceDataset element_spec=(TensorSpec(shape=(), dtype=tf.string, name=None), {'box': TensorSpec(shape=(4,), dtype=tf.float64, name=None), 'class': TensorSpec(shape=(), dtype=tf.int64, name=None)})>"
            ]
          },
          "metadata": {},
          "execution_count": 28
        }
      ]
    },
    {
      "cell_type": "code",
      "source": [
        "val_dataset = tf.data.Dataset.from_tensor_slices((val_df['path'].tolist(),\n",
        "                                                    {'box': boxes_val,\n",
        "                                                     'class': class_indexes_val}))\n",
        "val_dataset"
      ],
      "metadata": {
        "colab": {
          "base_uri": "https://localhost:8080/"
        },
        "id": "yHAP0mVDSjGN",
        "outputId": "563999fe-df75-4537-e4b9-3dc05312c721"
      },
      "execution_count": null,
      "outputs": [
        {
          "output_type": "execute_result",
          "data": {
            "text/plain": [
              "<TensorSliceDataset element_spec=(TensorSpec(shape=(), dtype=tf.string, name=None), {'box': TensorSpec(shape=(4,), dtype=tf.float64, name=None), 'class': TensorSpec(shape=(), dtype=tf.int64, name=None)})>"
            ]
          },
          "metadata": {},
          "execution_count": 29
        }
      ]
    },
    {
      "cell_type": "code",
      "source": [
        "test_dataset = tf.data.Dataset.from_tensor_slices((test_df['path'].tolist(),\n",
        "                                                    {'box': boxes_test,\n",
        "                                                     'class': class_indexes_test}))\n",
        "test_dataset"
      ],
      "metadata": {
        "colab": {
          "base_uri": "https://localhost:8080/"
        },
        "id": "QVJF6puPXTxE",
        "outputId": "9a8f9cc5-f4c3-43c9-bd04-51915bb6e1b4"
      },
      "execution_count": null,
      "outputs": [
        {
          "output_type": "execute_result",
          "data": {
            "text/plain": [
              "<TensorSliceDataset element_spec=(TensorSpec(shape=(), dtype=tf.string, name=None), {'box': TensorSpec(shape=(4,), dtype=tf.float64, name=None), 'class': TensorSpec(shape=(), dtype=tf.int64, name=None)})>"
            ]
          },
          "metadata": {},
          "execution_count": 30
        }
      ]
    },
    {
      "cell_type": "code",
      "source": [
        "iterator = iter(train_dataset)"
      ],
      "metadata": {
        "id": "HAY7XlByXsCK"
      },
      "execution_count": null,
      "outputs": []
    },
    {
      "cell_type": "code",
      "source": [
        "load_image(*next(iterator))[0].numpy().shape"
      ],
      "metadata": {
        "colab": {
          "base_uri": "https://localhost:8080/"
        },
        "id": "bAbe7gG37NKj",
        "outputId": "093c150d-b7eb-4eaa-d0a4-b991312b3467"
      },
      "execution_count": null,
      "outputs": [
        {
          "output_type": "execute_result",
          "data": {
            "text/plain": [
              "(100, 100, 3)"
            ]
          },
          "metadata": {},
          "execution_count": 32
        }
      ]
    },
    {
      "cell_type": "code",
      "source": [
        "plt.imshow(load_image(*next(iterator))[0].numpy()[:, :, 0])"
      ],
      "metadata": {
        "colab": {
          "base_uri": "https://localhost:8080/",
          "height": 285
        },
        "id": "UAOgz6opXvNy",
        "outputId": "f6f39716-62c7-42ff-ef58-6df0f8c5babc"
      },
      "execution_count": null,
      "outputs": [
        {
          "output_type": "execute_result",
          "data": {
            "text/plain": [
              "<matplotlib.image.AxesImage at 0x7f21d8404510>"
            ]
          },
          "metadata": {},
          "execution_count": 33
        },
        {
          "output_type": "display_data",
          "data": {
            "text/plain": [
              "<Figure size 432x288 with 1 Axes>"
            ],
            "image/png": "[encoded data removed]"
          },
          "metadata": {
            "needs_background": "light"
          }
        }
      ]
    },
    {
      "cell_type": "code",
      "source": [
        "from tensorflow.data import AUTOTUNE\n",
        "\n",
        "SHUFFLE_VAL = len(train_dataset)\n",
        "BATCH_SIZE = 4\n",
        "\n",
        "train_dataset = train_dataset.shuffle(SHUFFLE_VAL).map(load_image).batch(BATCH_SIZE).prefetch(AUTOTUNE)\n",
        "\n",
        "val_dataset = val_dataset.map(load_image).batch(BATCH_SIZE).prefetch(AUTOTUNE)\n",
        "\n",
        "test_dataset = test_dataset.map(load_image).batch(BATCH_SIZE).prefetch(AUTOTUNE)\n",
        "\n",
        "train_dataset, val_dataset, test_dataset"
      ],
      "metadata": {
        "colab": {
          "base_uri": "https://localhost:8080/"
        },
        "id": "A1-MHgcsPW1l",
        "outputId": "c7c33bca-4a0b-4d95-cea9-b3d27411f47d"
      },
      "execution_count": null,
      "outputs": [
        {
          "output_type": "execute_result",
          "data": {
            "text/plain": [
              "(<PrefetchDataset element_spec=(TensorSpec(shape=(None, None, None, 3), dtype=tf.uint8, name=None), {'box': TensorSpec(shape=(None, 4), dtype=tf.float64, name=None), 'class': TensorSpec(shape=(None,), dtype=tf.int64, name=None)})>,\n",
              " <PrefetchDataset element_spec=(TensorSpec(shape=(None, None, None, 3), dtype=tf.uint8, name=None), {'box': TensorSpec(shape=(None, 4), dtype=tf.float64, name=None), 'class': TensorSpec(shape=(None,), dtype=tf.int64, name=None)})>,\n",
              " <PrefetchDataset element_spec=(TensorSpec(shape=(None, None, None, 3), dtype=tf.uint8, name=None), {'box': TensorSpec(shape=(None, 4), dtype=tf.float64, name=None), 'class': TensorSpec(shape=(None,), dtype=tf.int64, name=None)})>)"
            ]
          },
          "metadata": {},
          "execution_count": 34
        }
      ]
    },
    {
      "cell_type": "code",
      "source": [
        "from tensorflow.keras.applications.efficientnet_v2 import EfficientNetV2S\n",
        "\n",
        "model = EfficientNetV2S(weights='imagenet',\n",
        "                         include_top=False,\n",
        "                         input_shape=(100, 100, 3))"
      ],
      "metadata": {
        "id": "-0OWkZMvAyoA",
        "colab": {
          "base_uri": "https://localhost:8080/"
        },
        "outputId": "9930929b-576a-4ed1-bba9-e8c5c4097e4f"
      },
      "execution_count": null,
      "outputs": [
        {
          "output_type": "stream",
          "name": "stdout",
          "text": [
            "Downloading data from https://storage.googleapis.com/tensorflow/keras-applications/efficientnet_v2/efficientnetv2-s_notop.h5\n",
            "82427904/82420632 [==============================] - 1s 0us/step\n",
            "82436096/82420632 [==============================] - 1s 0us/step\n"
          ]
        }
      ]
    },
    {
      "cell_type": "code",
      "source": [
        "for layer in model.layers[:-5]:\n",
        "  layer.trainable = False"
      ],
      "metadata": {
        "id": "HVYAZN97Azjk"
      },
      "execution_count": null,
      "outputs": []
    },
    {
      "cell_type": "code",
      "source": [
        "model.summary()"
      ],
      "metadata": {
        "colab": {
          "base_uri": "https://localhost:8080/"
        },
        "id": "yRCsOWTQA4Gz",
        "outputId": "b15843e2-8a9c-4646-a482-920443fb3682"
      },
      "execution_count": null,
      "outputs": [
        {
          "output_type": "stream",
          "name": "stdout",
          "text": [
            "Model: \"efficientnetv2-s\"\n",
            "__________________________________________________________________________________________________\n",
            " Layer (type)                   Output Shape         Param #     Connected to                     \n",
            "==================================================================================================\n",
            " input_1 (InputLayer)           [(None, 100, 100, 3  0           []                               \n",
            "                                )]                                                                \n",
            "                                                                                                  \n",
            " rescaling (Rescaling)          (None, 100, 100, 3)  0           ['input_1[0][0]']                \n",
            "                                                                                                  \n",
            " stem_conv (Conv2D)             (None, 50, 50, 24)   648         ['rescaling[0][0]']              \n",
            "                                                                                                  \n",
            " stem_bn (BatchNormalization)   (None, 50, 50, 24)   96          ['stem_conv[0][0]']              \n",
            "                                                                                                  \n",
            " stem_activation (Activation)   (None, 50, 50, 24)   0           ['stem_bn[0][0]']                \n",
            "                                                                                                  \n",
            " block1a_project_conv (Conv2D)  (None, 50, 50, 24)   5184        ['stem_activation[0][0]']        \n",
            "                                                                                                  \n",
            " block1a_project_bn (BatchNorma  (None, 50, 50, 24)  96          ['block1a_project_conv[0][0]']   \n",
            " lization)                                                                                        \n",
            "                                                                                                  \n",
            " block1a_project_activation (Ac  (None, 50, 50, 24)  0           ['block1a_project_bn[0][0]']     \n",
            " tivation)                                                                                        \n",
            "                                                                                                  \n",
            " block1a_add (Add)              (None, 50, 50, 24)   0           ['block1a_project_activation[0][0\n",
            "                                                                 ]',                              \n",
            "                                                                  'stem_activation[0][0]']        \n",
            "                                                                                                  \n",
            " block1b_project_conv (Conv2D)  (None, 50, 50, 24)   5184        ['block1a_add[0][0]']            \n",
            "                                                                                                  \n",
            " block1b_project_bn (BatchNorma  (None, 50, 50, 24)  96          ['block1b_project_conv[0][0]']   \n",
            " lization)                                                                                        \n",
            "                                                                                                  \n",
            " block1b_project_activation (Ac  (None, 50, 50, 24)  0           ['block1b_project_bn[0][0]']     \n",
            " tivation)                                                                                        \n",
            "                                                                                                  \n",
            " block1b_add (Add)              (None, 50, 50, 24)   0           ['block1b_project_activation[0][0\n",
            "                                                                 ]',                              \n",
            "                                                                  'block1a_add[0][0]']            \n",
            "                                                                                                  \n",
            " block2a_expand_conv (Conv2D)   (None, 25, 25, 96)   20736       ['block1b_add[0][0]']            \n",
            "                                                                                                  \n",
            " block2a_expand_bn (BatchNormal  (None, 25, 25, 96)  384         ['block2a_expand_conv[0][0]']    \n",
            " ization)                                                                                         \n",
            "                                                                                                  \n",
            " block2a_expand_activation (Act  (None, 25, 25, 96)  0           ['block2a_expand_bn[0][0]']      \n",
            " ivation)                                                                                         \n",
            "                                                                                                  \n",
            " block2a_project_conv (Conv2D)  (None, 25, 25, 48)   4608        ['block2a_expand_activation[0][0]\n",
            "                                                                 ']                               \n",
            "                                                                                                  \n",
            " block2a_project_bn (BatchNorma  (None, 25, 25, 48)  192         ['block2a_project_conv[0][0]']   \n",
            " lization)                                                                                        \n",
            "                                                                                                  \n",
            " block2b_expand_conv (Conv2D)   (None, 25, 25, 192)  82944       ['block2a_project_bn[0][0]']     \n",
            "                                                                                                  \n",
            " block2b_expand_bn (BatchNormal  (None, 25, 25, 192)  768        ['block2b_expand_conv[0][0]']    \n",
            " ization)                                                                                         \n",
            "                                                                                                  \n",
            " block2b_expand_activation (Act  (None, 25, 25, 192)  0          ['block2b_expand_bn[0][0]']      \n",
            " ivation)                                                                                         \n",
            "                                                                                                  \n",
            " block2b_project_conv (Conv2D)  (None, 25, 25, 48)   9216        ['block2b_expand_activation[0][0]\n",
            "                                                                 ']                               \n",
            "                                                                                                  \n",
            " block2b_project_bn (BatchNorma  (None, 25, 25, 48)  192         ['block2b_project_conv[0][0]']   \n",
            " lization)                                                                                        \n",
            "                                                                                                  \n",
            " block2b_add (Add)              (None, 25, 25, 48)   0           ['block2b_project_bn[0][0]',     \n",
            "                                                                  'block2a_project_bn[0][0]']     \n",
            "                                                                                                  \n",
            " block2c_expand_conv (Conv2D)   (None, 25, 25, 192)  82944       ['block2b_add[0][0]']            \n",
            "                                                                                                  \n",
            " block2c_expand_bn (BatchNormal  (None, 25, 25, 192)  768        ['block2c_expand_conv[0][0]']    \n",
            " ization)                                                                                         \n",
            "                                                                                                  \n",
            " block2c_expand_activation (Act  (None, 25, 25, 192)  0          ['block2c_expand_bn[0][0]']      \n",
            " ivation)                                                                                         \n",
            "                                                                                                  \n",
            " block2c_project_conv (Conv2D)  (None, 25, 25, 48)   9216        ['block2c_expand_activation[0][0]\n",
            "                                                                 ']                               \n",
            "                                                                                                  \n",
            " block2c_project_bn (BatchNorma  (None, 25, 25, 48)  192         ['block2c_project_conv[0][0]']   \n",
            " lization)                                                                                        \n",
            "                                                                                                  \n",
            " block2c_add (Add)              (None, 25, 25, 48)   0           ['block2c_project_bn[0][0]',     \n",
            "                                                                  'block2b_add[0][0]']            \n",
            "                                                                                                  \n",
            " block2d_expand_conv (Conv2D)   (None, 25, 25, 192)  82944       ['block2c_add[0][0]']            \n",
            "                                                                                                  \n",
            " block2d_expand_bn (BatchNormal  (None, 25, 25, 192)  768        ['block2d_expand_conv[0][0]']    \n",
            " ization)                                                                                         \n",
            "                                                                                                  \n",
            " block2d_expand_activation (Act  (None, 25, 25, 192)  0          ['block2d_expand_bn[0][0]']      \n",
            " ivation)                                                                                         \n",
            "                                                                                                  \n",
            " block2d_project_conv (Conv2D)  (None, 25, 25, 48)   9216        ['block2d_expand_activation[0][0]\n",
            "                                                                 ']                               \n",
            "                                                                                                  \n",
            " block2d_project_bn (BatchNorma  (None, 25, 25, 48)  192         ['block2d_project_conv[0][0]']   \n",
            " lization)                                                                                        \n",
            "                                                                                                  \n",
            " block2d_add (Add)              (None, 25, 25, 48)   0           ['block2d_project_bn[0][0]',     \n",
            "                                                                  'block2c_add[0][0]']            \n",
            "                                                                                                  \n",
            " block3a_expand_conv (Conv2D)   (None, 13, 13, 192)  82944       ['block2d_add[0][0]']            \n",
            "                                                                                                  \n",
            " block3a_expand_bn (BatchNormal  (None, 13, 13, 192)  768        ['block3a_expand_conv[0][0]']    \n",
            " ization)                                                                                         \n",
            "                                                                                                  \n",
            " block3a_expand_activation (Act  (None, 13, 13, 192)  0          ['block3a_expand_bn[0][0]']      \n",
            " ivation)                                                                                         \n",
            "                                                                                                  \n",
            " block3a_project_conv (Conv2D)  (None, 13, 13, 64)   12288       ['block3a_expand_activation[0][0]\n",
            "                                                                 ']                               \n",
            "                                                                                                  \n",
            " block3a_project_bn (BatchNorma  (None, 13, 13, 64)  256         ['block3a_project_conv[0][0]']   \n",
            " lization)                                                                                        \n",
            "                                                                                                  \n",
            " block3b_expand_conv (Conv2D)   (None, 13, 13, 256)  147456      ['block3a_project_bn[0][0]']     \n",
            "                                                                                                  \n",
            " block3b_expand_bn (BatchNormal  (None, 13, 13, 256)  1024       ['block3b_expand_conv[0][0]']    \n",
            " ization)                                                                                         \n",
            "                                                                                                  \n",
            " block3b_expand_activation (Act  (None, 13, 13, 256)  0          ['block3b_expand_bn[0][0]']      \n",
            " ivation)                                                                                         \n",
            "                                                                                                  \n",
            " block3b_project_conv (Conv2D)  (None, 13, 13, 64)   16384       ['block3b_expand_activation[0][0]\n",
            "                                                                 ']                               \n",
            "                                                                                                  \n",
            " block3b_project_bn (BatchNorma  (None, 13, 13, 64)  256         ['block3b_project_conv[0][0]']   \n",
            " lization)                                                                                        \n",
            "                                                                                                  \n",
            " block3b_add (Add)              (None, 13, 13, 64)   0           ['block3b_project_bn[0][0]',     \n",
            "                                                                  'block3a_project_bn[0][0]']     \n",
            "                                                                                                  \n",
            " block3c_expand_conv (Conv2D)   (None, 13, 13, 256)  147456      ['block3b_add[0][0]']            \n",
            "                                                                                                  \n",
            " block3c_expand_bn (BatchNormal  (None, 13, 13, 256)  1024       ['block3c_expand_conv[0][0]']    \n",
            " ization)                                                                                         \n",
            "                                                                                                  \n",
            " block3c_expand_activation (Act  (None, 13, 13, 256)  0          ['block3c_expand_bn[0][0]']      \n",
            " ivation)                                                                                         \n",
            "                                                                                                  \n",
            " block3c_project_conv (Conv2D)  (None, 13, 13, 64)   16384       ['block3c_expand_activation[0][0]\n",
            "                                                                 ']                               \n",
            "                                                                                                  \n",
            " block3c_project_bn (BatchNorma  (None, 13, 13, 64)  256         ['block3c_project_conv[0][0]']   \n",
            " lization)                                                                                        \n",
            "                                                                                                  \n",
            " block3c_add (Add)              (None, 13, 13, 64)   0           ['block3c_project_bn[0][0]',     \n",
            "                                                                  'block3b_add[0][0]']            \n",
            "                                                                                                  \n",
            " block3d_expand_conv (Conv2D)   (None, 13, 13, 256)  147456      ['block3c_add[0][0]']            \n",
            "                                                                                                  \n",
            " block3d_expand_bn (BatchNormal  (None, 13, 13, 256)  1024       ['block3d_expand_conv[0][0]']    \n",
            " ization)                                                                                         \n",
            "                                                                                                  \n",
            " block3d_expand_activation (Act  (None, 13, 13, 256)  0          ['block3d_expand_bn[0][0]']      \n",
            " ivation)                                                                                         \n",
            "                                                                                                  \n",
            " block3d_project_conv (Conv2D)  (None, 13, 13, 64)   16384       ['block3d_expand_activation[0][0]\n",
            "                                                                 ']                               \n",
            "                                                                                                  \n",
            " block3d_project_bn (BatchNorma  (None, 13, 13, 64)  256         ['block3d_project_conv[0][0]']   \n",
            " lization)                                                                                        \n",
            "                                                                                                  \n",
            " block3d_add (Add)              (None, 13, 13, 64)   0           ['block3d_project_bn[0][0]',     \n",
            "                                                                  'block3c_add[0][0]']            \n",
            "                                                                                                  \n",
            " block4a_expand_conv (Conv2D)   (None, 13, 13, 256)  16384       ['block3d_add[0][0]']            \n",
            "                                                                                                  \n",
            " block4a_expand_bn (BatchNormal  (None, 13, 13, 256)  1024       ['block4a_expand_conv[0][0]']    \n",
            " ization)                                                                                         \n",
            "                                                                                                  \n",
            " block4a_expand_activation (Act  (None, 13, 13, 256)  0          ['block4a_expand_bn[0][0]']      \n",
            " ivation)                                                                                         \n",
            "                                                                                                  \n",
            " block4a_dwconv2 (DepthwiseConv  (None, 7, 7, 256)   2304        ['block4a_expand_activation[0][0]\n",
            " 2D)                                                             ']                               \n",
            "                                                                                                  \n",
            " block4a_bn (BatchNormalization  (None, 7, 7, 256)   1024        ['block4a_dwconv2[0][0]']        \n",
            " )                                                                                                \n",
            "                                                                                                  \n",
            " block4a_activation (Activation  (None, 7, 7, 256)   0           ['block4a_bn[0][0]']             \n",
            " )                                                                                                \n",
            "                                                                                                  \n",
            " block4a_se_squeeze (GlobalAver  (None, 256)         0           ['block4a_activation[0][0]']     \n",
            " agePooling2D)                                                                                    \n",
            "                                                                                                  \n",
            " block4a_se_reshape (Reshape)   (None, 1, 1, 256)    0           ['block4a_se_squeeze[0][0]']     \n",
            "                                                                                                  \n",
            " block4a_se_reduce (Conv2D)     (None, 1, 1, 16)     4112        ['block4a_se_reshape[0][0]']     \n",
            "                                                                                                  \n",
            " block4a_se_expand (Conv2D)     (None, 1, 1, 256)    4352        ['block4a_se_reduce[0][0]']      \n",
            "                                                                                                  \n",
            " block4a_se_excite (Multiply)   (None, 7, 7, 256)    0           ['block4a_activation[0][0]',     \n",
            "                                                                  'block4a_se_expand[0][0]']      \n",
            "                                                                                                  \n",
            " block4a_project_conv (Conv2D)  (None, 7, 7, 128)    32768       ['block4a_se_excite[0][0]']      \n",
            "                                                                                                  \n",
            " block4a_project_bn (BatchNorma  (None, 7, 7, 128)   512         ['block4a_project_conv[0][0]']   \n",
            " lization)                                                                                        \n",
            "                                                                                                  \n",
            " block4b_expand_conv (Conv2D)   (None, 7, 7, 512)    65536       ['block4a_project_bn[0][0]']     \n",
            "                                                                                                  \n",
            " block4b_expand_bn (BatchNormal  (None, 7, 7, 512)   2048        ['block4b_expand_conv[0][0]']    \n",
            " ization)                                                                                         \n",
            "                                                                                                  \n",
            " block4b_expand_activation (Act  (None, 7, 7, 512)   0           ['block4b_expand_bn[0][0]']      \n",
            " ivation)                                                                                         \n",
            "                                                                                                  \n",
            " block4b_dwconv2 (DepthwiseConv  (None, 7, 7, 512)   4608        ['block4b_expand_activation[0][0]\n",
            " 2D)                                                             ']                               \n",
            "                                                                                                  \n",
            " block4b_bn (BatchNormalization  (None, 7, 7, 512)   2048        ['block4b_dwconv2[0][0]']        \n",
            " )                                                                                                \n",
            "                                                                                                  \n",
            " block4b_activation (Activation  (None, 7, 7, 512)   0           ['block4b_bn[0][0]']             \n",
            " )                                                                                                \n",
            "                                                                                                  \n",
            " block4b_se_squeeze (GlobalAver  (None, 512)         0           ['block4b_activation[0][0]']     \n",
            " agePooling2D)                                                                                    \n",
            "                                                                                                  \n",
            " block4b_se_reshape (Reshape)   (None, 1, 1, 512)    0           ['block4b_se_squeeze[0][0]']     \n",
            "                                                                                                  \n",
            " block4b_se_reduce (Conv2D)     (None, 1, 1, 32)     16416       ['block4b_se_reshape[0][0]']     \n",
            "                                                                                                  \n",
            " block4b_se_expand (Conv2D)     (None, 1, 1, 512)    16896       ['block4b_se_reduce[0][0]']      \n",
            "                                                                                                  \n",
            " block4b_se_excite (Multiply)   (None, 7, 7, 512)    0           ['block4b_activation[0][0]',     \n",
            "                                                                  'block4b_se_expand[0][0]']      \n",
            "                                                                                                  \n",
            " block4b_project_conv (Conv2D)  (None, 7, 7, 128)    65536       ['block4b_se_excite[0][0]']      \n",
            "                                                                                                  \n",
            " block4b_project_bn (BatchNorma  (None, 7, 7, 128)   512         ['block4b_project_conv[0][0]']   \n",
            " lization)                                                                                        \n",
            "                                                                                                  \n",
            " block4b_add (Add)              (None, 7, 7, 128)    0           ['block4b_project_bn[0][0]',     \n",
            "                                                                  'block4a_project_bn[0][0]']     \n",
            "                                                                                                  \n",
            " block4c_expand_conv (Conv2D)   (None, 7, 7, 512)    65536       ['block4b_add[0][0]']            \n",
            "                                                                                                  \n",
            " block4c_expand_bn (BatchNormal  (None, 7, 7, 512)   2048        ['block4c_expand_conv[0][0]']    \n",
            " ization)                                                                                         \n",
            "                                                                                                  \n",
            " block4c_expand_activation (Act  (None, 7, 7, 512)   0           ['block4c_expand_bn[0][0]']      \n",
            " ivation)                                                                                         \n",
            "                                                                                                  \n",
            " block4c_dwconv2 (DepthwiseConv  (None, 7, 7, 512)   4608        ['block4c_expand_activation[0][0]\n",
            " 2D)                                                             ']                               \n",
            "                                                                                                  \n",
            " block4c_bn (BatchNormalization  (None, 7, 7, 512)   2048        ['block4c_dwconv2[0][0]']        \n",
            " )                                                                                                \n",
            "                                                                                                  \n",
            " block4c_activation (Activation  (None, 7, 7, 512)   0           ['block4c_bn[0][0]']             \n",
            " )                                                                                                \n",
            "                                                                                                  \n",
            " block4c_se_squeeze (GlobalAver  (None, 512)         0           ['block4c_activation[0][0]']     \n",
            " agePooling2D)                                                                                    \n",
            "                                                                                                  \n",
            " block4c_se_reshape (Reshape)   (None, 1, 1, 512)    0           ['block4c_se_squeeze[0][0]']     \n",
            "                                                                                                  \n",
            " block4c_se_reduce (Conv2D)     (None, 1, 1, 32)     16416       ['block4c_se_reshape[0][0]']     \n",
            "                                                                                                  \n",
            " block4c_se_expand (Conv2D)     (None, 1, 1, 512)    16896       ['block4c_se_reduce[0][0]']      \n",
            "                                                                                                  \n",
            " block4c_se_excite (Multiply)   (None, 7, 7, 512)    0           ['block4c_activation[0][0]',     \n",
            "                                                                  'block4c_se_expand[0][0]']      \n",
            "                                                                                                  \n",
            " block4c_project_conv (Conv2D)  (None, 7, 7, 128)    65536       ['block4c_se_excite[0][0]']      \n",
            "                                                                                                  \n",
            " block4c_project_bn (BatchNorma  (None, 7, 7, 128)   512         ['block4c_project_conv[0][0]']   \n",
            " lization)                                                                                        \n",
            "                                                                                                  \n",
            " block4c_add (Add)              (None, 7, 7, 128)    0           ['block4c_project_bn[0][0]',     \n",
            "                                                                  'block4b_add[0][0]']            \n",
            "                                                                                                  \n",
            " block4d_expand_conv (Conv2D)   (None, 7, 7, 512)    65536       ['block4c_add[0][0]']            \n",
            "                                                                                                  \n",
            " block4d_expand_bn (BatchNormal  (None, 7, 7, 512)   2048        ['block4d_expand_conv[0][0]']    \n",
            " ization)                                                                                         \n",
            "                                                                                                  \n",
            " block4d_expand_activation (Act  (None, 7, 7, 512)   0           ['block4d_expand_bn[0][0]']      \n",
            " ivation)                                                                                         \n",
            "                                                                                                  \n",
            " block4d_dwconv2 (DepthwiseConv  (None, 7, 7, 512)   4608        ['block4d_expand_activation[0][0]\n",
            " 2D)                                                             ']                               \n",
            "                                                                                                  \n",
            " block4d_bn (BatchNormalization  (None, 7, 7, 512)   2048        ['block4d_dwconv2[0][0]']        \n",
            " )                                                                                                \n",
            "                                                                                                  \n",
            " block4d_activation (Activation  (None, 7, 7, 512)   0           ['block4d_bn[0][0]']             \n",
            " )                                                                                                \n",
            "                                                                                                  \n",
            " block4d_se_squeeze (GlobalAver  (None, 512)         0           ['block4d_activation[0][0]']     \n",
            " agePooling2D)                                                                                    \n",
            "                                                                                                  \n",
            " block4d_se_reshape (Reshape)   (None, 1, 1, 512)    0           ['block4d_se_squeeze[0][0]']     \n",
            "                                                                                                  \n",
            " block4d_se_reduce (Conv2D)     (None, 1, 1, 32)     16416       ['block4d_se_reshape[0][0]']     \n",
            "                                                                                                  \n",
            " block4d_se_expand (Conv2D)     (None, 1, 1, 512)    16896       ['block4d_se_reduce[0][0]']      \n",
            "                                                                                                  \n",
            " block4d_se_excite (Multiply)   (None, 7, 7, 512)    0           ['block4d_activation[0][0]',     \n",
            "                                                                  'block4d_se_expand[0][0]']      \n",
            "                                                                                                  \n",
            " block4d_project_conv (Conv2D)  (None, 7, 7, 128)    65536       ['block4d_se_excite[0][0]']      \n",
            "                                                                                                  \n",
            " block4d_project_bn (BatchNorma  (None, 7, 7, 128)   512         ['block4d_project_conv[0][0]']   \n",
            " lization)                                                                                        \n",
            "                                                                                                  \n",
            " block4d_add (Add)              (None, 7, 7, 128)    0           ['block4d_project_bn[0][0]',     \n",
            "                                                                  'block4c_add[0][0]']            \n",
            "                                                                                                  \n",
            " block4e_expand_conv (Conv2D)   (None, 7, 7, 512)    65536       ['block4d_add[0][0]']            \n",
            "                                                                                                  \n",
            " block4e_expand_bn (BatchNormal  (None, 7, 7, 512)   2048        ['block4e_expand_conv[0][0]']    \n",
            " ization)                                                                                         \n",
            "                                                                                                  \n",
            " block4e_expand_activation (Act  (None, 7, 7, 512)   0           ['block4e_expand_bn[0][0]']      \n",
            " ivation)                                                                                         \n",
            "                                                                                                  \n",
            " block4e_dwconv2 (DepthwiseConv  (None, 7, 7, 512)   4608        ['block4e_expand_activation[0][0]\n",
            " 2D)                                                             ']                               \n",
            "                                                                                                  \n",
            " block4e_bn (BatchNormalization  (None, 7, 7, 512)   2048        ['block4e_dwconv2[0][0]']        \n",
            " )                                                                                                \n",
            "                                                                                                  \n",
            " block4e_activation (Activation  (None, 7, 7, 512)   0           ['block4e_bn[0][0]']             \n",
            " )                                                                                                \n",
            "                                                                                                  \n",
            " block4e_se_squeeze (GlobalAver  (None, 512)         0           ['block4e_activation[0][0]']     \n",
            " agePooling2D)                                                                                    \n",
            "                                                                                                  \n",
            " block4e_se_reshape (Reshape)   (None, 1, 1, 512)    0           ['block4e_se_squeeze[0][0]']     \n",
            "                                                                                                  \n",
            " block4e_se_reduce (Conv2D)     (None, 1, 1, 32)     16416       ['block4e_se_reshape[0][0]']     \n",
            "                                                                                                  \n",
            " block4e_se_expand (Conv2D)     (None, 1, 1, 512)    16896       ['block4e_se_reduce[0][0]']      \n",
            "                                                                                                  \n",
            " block4e_se_excite (Multiply)   (None, 7, 7, 512)    0           ['block4e_activation[0][0]',     \n",
            "                                                                  'block4e_se_expand[0][0]']      \n",
            "                                                                                                  \n",
            " block4e_project_conv (Conv2D)  (None, 7, 7, 128)    65536       ['block4e_se_excite[0][0]']      \n",
            "                                                                                                  \n",
            " block4e_project_bn (BatchNorma  (None, 7, 7, 128)   512         ['block4e_project_conv[0][0]']   \n",
            " lization)                                                                                        \n",
            "                                                                                                  \n",
            " block4e_add (Add)              (None, 7, 7, 128)    0           ['block4e_project_bn[0][0]',     \n",
            "                                                                  'block4d_add[0][0]']            \n",
            "                                                                                                  \n",
            " block4f_expand_conv (Conv2D)   (None, 7, 7, 512)    65536       ['block4e_add[0][0]']            \n",
            "                                                                                                  \n",
            " block4f_expand_bn (BatchNormal  (None, 7, 7, 512)   2048        ['block4f_expand_conv[0][0]']    \n",
            " ization)                                                                                         \n",
            "                                                                                                  \n",
            " block4f_expand_activation (Act  (None, 7, 7, 512)   0           ['block4f_expand_bn[0][0]']      \n",
            " ivation)                                                                                         \n",
            "                                                                                                  \n",
            " block4f_dwconv2 (DepthwiseConv  (None, 7, 7, 512)   4608        ['block4f_expand_activation[0][0]\n",
            " 2D)                                                             ']                               \n",
            "                                                                                                  \n",
            " block4f_bn (BatchNormalization  (None, 7, 7, 512)   2048        ['block4f_dwconv2[0][0]']        \n",
            " )                                                                                                \n",
            "                                                                                                  \n",
            " block4f_activation (Activation  (None, 7, 7, 512)   0           ['block4f_bn[0][0]']             \n",
            " )                                                                                                \n",
            "                                                                                                  \n",
            " block4f_se_squeeze (GlobalAver  (None, 512)         0           ['block4f_activation[0][0]']     \n",
            " agePooling2D)                                                                                    \n",
            "                                                                                                  \n",
            " block4f_se_reshape (Reshape)   (None, 1, 1, 512)    0           ['block4f_se_squeeze[0][0]']     \n",
            "                                                                                                  \n",
            " block4f_se_reduce (Conv2D)     (None, 1, 1, 32)     16416       ['block4f_se_reshape[0][0]']     \n",
            "                                                                                                  \n",
            " block4f_se_expand (Conv2D)     (None, 1, 1, 512)    16896       ['block4f_se_reduce[0][0]']      \n",
            "                                                                                                  \n",
            " block4f_se_excite (Multiply)   (None, 7, 7, 512)    0           ['block4f_activation[0][0]',     \n",
            "                                                                  'block4f_se_expand[0][0]']      \n",
            "                                                                                                  \n",
            " block4f_project_conv (Conv2D)  (None, 7, 7, 128)    65536       ['block4f_se_excite[0][0]']      \n",
            "                                                                                                  \n",
            " block4f_project_bn (BatchNorma  (None, 7, 7, 128)   512         ['block4f_project_conv[0][0]']   \n",
            " lization)                                                                                        \n",
            "                                                                                                  \n",
            " block4f_add (Add)              (None, 7, 7, 128)    0           ['block4f_project_bn[0][0]',     \n",
            "                                                                  'block4e_add[0][0]']            \n",
            "                                                                                                  \n",
            " block5a_expand_conv (Conv2D)   (None, 7, 7, 768)    98304       ['block4f_add[0][0]']            \n",
            "                                                                                                  \n",
            " block5a_expand_bn (BatchNormal  (None, 7, 7, 768)   3072        ['block5a_expand_conv[0][0]']    \n",
            " ization)                                                                                         \n",
            "                                                                                                  \n",
            " block5a_expand_activation (Act  (None, 7, 7, 768)   0           ['block5a_expand_bn[0][0]']      \n",
            " ivation)                                                                                         \n",
            "                                                                                                  \n",
            " block5a_dwconv2 (DepthwiseConv  (None, 7, 7, 768)   6912        ['block5a_expand_activation[0][0]\n",
            " 2D)                                                             ']                               \n",
            "                                                                                                  \n",
            " block5a_bn (BatchNormalization  (None, 7, 7, 768)   3072        ['block5a_dwconv2[0][0]']        \n",
            " )                                                                                                \n",
            "                                                                                                  \n",
            " block5a_activation (Activation  (None, 7, 7, 768)   0           ['block5a_bn[0][0]']             \n",
            " )                                                                                                \n",
            "                                                                                                  \n",
            " block5a_se_squeeze (GlobalAver  (None, 768)         0           ['block5a_activation[0][0]']     \n",
            " agePooling2D)                                                                                    \n",
            "                                                                                                  \n",
            " block5a_se_reshape (Reshape)   (None, 1, 1, 768)    0           ['block5a_se_squeeze[0][0]']     \n",
            "                                                                                                  \n",
            " block5a_se_reduce (Conv2D)     (None, 1, 1, 32)     24608       ['block5a_se_reshape[0][0]']     \n",
            "                                                                                                  \n",
            " block5a_se_expand (Conv2D)     (None, 1, 1, 768)    25344       ['block5a_se_reduce[0][0]']      \n",
            "                                                                                                  \n",
            " block5a_se_excite (Multiply)   (None, 7, 7, 768)    0           ['block5a_activation[0][0]',     \n",
            "                                                                  'block5a_se_expand[0][0]']      \n",
            "                                                                                                  \n",
            " block5a_project_conv (Conv2D)  (None, 7, 7, 160)    122880      ['block5a_se_excite[0][0]']      \n",
            "                                                                                                  \n",
            " block5a_project_bn (BatchNorma  (None, 7, 7, 160)   640         ['block5a_project_conv[0][0]']   \n",
            " lization)                                                                                        \n",
            "                                                                                                  \n",
            " block5b_expand_conv (Conv2D)   (None, 7, 7, 960)    153600      ['block5a_project_bn[0][0]']     \n",
            "                                                                                                  \n",
            " block5b_expand_bn (BatchNormal  (None, 7, 7, 960)   3840        ['block5b_expand_conv[0][0]']    \n",
            " ization)                                                                                         \n",
            "                                                                                                  \n",
            " block5b_expand_activation (Act  (None, 7, 7, 960)   0           ['block5b_expand_bn[0][0]']      \n",
            " ivation)                                                                                         \n",
            "                                                                                                  \n",
            " block5b_dwconv2 (DepthwiseConv  (None, 7, 7, 960)   8640        ['block5b_expand_activation[0][0]\n",
            " 2D)                                                             ']                               \n",
            "                                                                                                  \n",
            " block5b_bn (BatchNormalization  (None, 7, 7, 960)   3840        ['block5b_dwconv2[0][0]']        \n",
            " )                                                                                                \n",
            "                                                                                                  \n",
            " block5b_activation (Activation  (None, 7, 7, 960)   0           ['block5b_bn[0][0]']             \n",
            " )                                                                                                \n",
            "                                                                                                  \n",
            " block5b_se_squeeze (GlobalAver  (None, 960)         0           ['block5b_activation[0][0]']     \n",
            " agePooling2D)                                                                                    \n",
            "                                                                                                  \n",
            " block5b_se_reshape (Reshape)   (None, 1, 1, 960)    0           ['block5b_se_squeeze[0][0]']     \n",
            "                                                                                                  \n",
            " block5b_se_reduce (Conv2D)     (None, 1, 1, 40)     38440       ['block5b_se_reshape[0][0]']     \n",
            "                                                                                                  \n",
            " block5b_se_expand (Conv2D)     (None, 1, 1, 960)    39360       ['block5b_se_reduce[0][0]']      \n",
            "                                                                                                  \n",
            " block5b_se_excite (Multiply)   (None, 7, 7, 960)    0           ['block5b_activation[0][0]',     \n",
            "                                                                  'block5b_se_expand[0][0]']      \n",
            "                                                                                                  \n",
            " block5b_project_conv (Conv2D)  (None, 7, 7, 160)    153600      ['block5b_se_excite[0][0]']      \n",
            "                                                                                                  \n",
            " block5b_project_bn (BatchNorma  (None, 7, 7, 160)   640         ['block5b_project_conv[0][0]']   \n",
            " lization)                                                                                        \n",
            "                                                                                                  \n",
            " block5b_add (Add)              (None, 7, 7, 160)    0           ['block5b_project_bn[0][0]',     \n",
            "                                                                  'block5a_project_bn[0][0]']     \n",
            "                                                                                                  \n",
            " block5c_expand_conv (Conv2D)   (None, 7, 7, 960)    153600      ['block5b_add[0][0]']            \n",
            "                                                                                                  \n",
            " block5c_expand_bn (BatchNormal  (None, 7, 7, 960)   3840        ['block5c_expand_conv[0][0]']    \n",
            " ization)                                                                                         \n",
            "                                                                                                  \n",
            " block5c_expand_activation (Act  (None, 7, 7, 960)   0           ['block5c_expand_bn[0][0]']      \n",
            " ivation)                                                                                         \n",
            "                                                                                                  \n",
            " block5c_dwconv2 (DepthwiseConv  (None, 7, 7, 960)   8640        ['block5c_expand_activation[0][0]\n",
            " 2D)                                                             ']                               \n",
            "                                                                                                  \n",
            " block5c_bn (BatchNormalization  (None, 7, 7, 960)   3840        ['block5c_dwconv2[0][0]']        \n",
            " )                                                                                                \n",
            "                                                                                                  \n",
            " block5c_activation (Activation  (None, 7, 7, 960)   0           ['block5c_bn[0][0]']             \n",
            " )                                                                                                \n",
            "                                                                                                  \n",
            " block5c_se_squeeze (GlobalAver  (None, 960)         0           ['block5c_activation[0][0]']     \n",
            " agePooling2D)                                                                                    \n",
            "                                                                                                  \n",
            " block5c_se_reshape (Reshape)   (None, 1, 1, 960)    0           ['block5c_se_squeeze[0][0]']     \n",
            "                                                                                                  \n",
            " block5c_se_reduce (Conv2D)     (None, 1, 1, 40)     38440       ['block5c_se_reshape[0][0]']     \n",
            "                                                                                                  \n",
            " block5c_se_expand (Conv2D)     (None, 1, 1, 960)    39360       ['block5c_se_reduce[0][0]']      \n",
            "                                                                                                  \n",
            " block5c_se_excite (Multiply)   (None, 7, 7, 960)    0           ['block5c_activation[0][0]',     \n",
            "                                                                  'block5c_se_expand[0][0]']      \n",
            "                                                                                                  \n",
            " block5c_project_conv (Conv2D)  (None, 7, 7, 160)    153600      ['block5c_se_excite[0][0]']      \n",
            "                                                                                                  \n",
            " block5c_project_bn (BatchNorma  (None, 7, 7, 160)   640         ['block5c_project_conv[0][0]']   \n",
            " lization)                                                                                        \n",
            "                                                                                                  \n",
            " block5c_add (Add)              (None, 7, 7, 160)    0           ['block5c_project_bn[0][0]',     \n",
            "                                                                  'block5b_add[0][0]']            \n",
            "                                                                                                  \n",
            " block5d_expand_conv (Conv2D)   (None, 7, 7, 960)    153600      ['block5c_add[0][0]']            \n",
            "                                                                                                  \n",
            " block5d_expand_bn (BatchNormal  (None, 7, 7, 960)   3840        ['block5d_expand_conv[0][0]']    \n",
            " ization)                                                                                         \n",
            "                                                                                                  \n",
            " block5d_expand_activation (Act  (None, 7, 7, 960)   0           ['block5d_expand_bn[0][0]']      \n",
            " ivation)                                                                                         \n",
            "                                                                                                  \n",
            " block5d_dwconv2 (DepthwiseConv  (None, 7, 7, 960)   8640        ['block5d_expand_activation[0][0]\n",
            " 2D)                                                             ']                               \n",
            "                                                                                                  \n",
            " block5d_bn (BatchNormalization  (None, 7, 7, 960)   3840        ['block5d_dwconv2[0][0]']        \n",
            " )                                                                                                \n",
            "                                                                                                  \n",
            " block5d_activation (Activation  (None, 7, 7, 960)   0           ['block5d_bn[0][0]']             \n",
            " )                                                                                                \n",
            "                                                                                                  \n",
            " block5d_se_squeeze (GlobalAver  (None, 960)         0           ['block5d_activation[0][0]']     \n",
            " agePooling2D)                                                                                    \n",
            "                                                                                                  \n",
            " block5d_se_reshape (Reshape)   (None, 1, 1, 960)    0           ['block5d_se_squeeze[0][0]']     \n",
            "                                                                                                  \n",
            " block5d_se_reduce (Conv2D)     (None, 1, 1, 40)     38440       ['block5d_se_reshape[0][0]']     \n",
            "                                                                                                  \n",
            " block5d_se_expand (Conv2D)     (None, 1, 1, 960)    39360       ['block5d_se_reduce[0][0]']      \n",
            "                                                                                                  \n",
            " block5d_se_excite (Multiply)   (None, 7, 7, 960)    0           ['block5d_activation[0][0]',     \n",
            "                                                                  'block5d_se_expand[0][0]']      \n",
            "                                                                                                  \n",
            " block5d_project_conv (Conv2D)  (None, 7, 7, 160)    153600      ['block5d_se_excite[0][0]']      \n",
            "                                                                                                  \n",
            " block5d_project_bn (BatchNorma  (None, 7, 7, 160)   640         ['block5d_project_conv[0][0]']   \n",
            " lization)                                                                                        \n",
            "                                                                                                  \n",
            " block5d_add (Add)              (None, 7, 7, 160)    0           ['block5d_project_bn[0][0]',     \n",
            "                                                                  'block5c_add[0][0]']            \n",
            "                                                                                                  \n",
            " block5e_expand_conv (Conv2D)   (None, 7, 7, 960)    153600      ['block5d_add[0][0]']            \n",
            "                                                                                                  \n",
            " block5e_expand_bn (BatchNormal  (None, 7, 7, 960)   3840        ['block5e_expand_conv[0][0]']    \n",
            " ization)                                                                                         \n",
            "                                                                                                  \n",
            " block5e_expand_activation (Act  (None, 7, 7, 960)   0           ['block5e_expand_bn[0][0]']      \n",
            " ivation)                                                                                         \n",
            "                                                                                                  \n",
            " block5e_dwconv2 (DepthwiseConv  (None, 7, 7, 960)   8640        ['block5e_expand_activation[0][0]\n",
            " 2D)                                                             ']                               \n",
            "                                                                                                  \n",
            " block5e_bn (BatchNormalization  (None, 7, 7, 960)   3840        ['block5e_dwconv2[0][0]']        \n",
            " )                                                                                                \n",
            "                                                                                                  \n",
            " block5e_activation (Activation  (None, 7, 7, 960)   0           ['block5e_bn[0][0]']             \n",
            " )                                                                                                \n",
            "                                                                                                  \n",
            " block5e_se_squeeze (GlobalAver  (None, 960)         0           ['block5e_activation[0][0]']     \n",
            " agePooling2D)                                                                                    \n",
            "                                                                                                  \n",
            " block5e_se_reshape (Reshape)   (None, 1, 1, 960)    0           ['block5e_se_squeeze[0][0]']     \n",
            "                                                                                                  \n",
            " block5e_se_reduce (Conv2D)     (None, 1, 1, 40)     38440       ['block5e_se_reshape[0][0]']     \n",
            "                                                                                                  \n",
            " block5e_se_expand (Conv2D)     (None, 1, 1, 960)    39360       ['block5e_se_reduce[0][0]']      \n",
            "                                                                                                  \n",
            " block5e_se_excite (Multiply)   (None, 7, 7, 960)    0           ['block5e_activation[0][0]',     \n",
            "                                                                  'block5e_se_expand[0][0]']      \n",
            "                                                                                                  \n",
            " block5e_project_conv (Conv2D)  (None, 7, 7, 160)    153600      ['block5e_se_excite[0][0]']      \n",
            "                                                                                                  \n",
            " block5e_project_bn (BatchNorma  (None, 7, 7, 160)   640         ['block5e_project_conv[0][0]']   \n",
            " lization)                                                                                        \n",
            "                                                                                                  \n",
            " block5e_add (Add)              (None, 7, 7, 160)    0           ['block5e_project_bn[0][0]',     \n",
            "                                                                  'block5d_add[0][0]']            \n",
            "                                                                                                  \n",
            " block5f_expand_conv (Conv2D)   (None, 7, 7, 960)    153600      ['block5e_add[0][0]']            \n",
            "                                                                                                  \n",
            " block5f_expand_bn (BatchNormal  (None, 7, 7, 960)   3840        ['block5f_expand_conv[0][0]']    \n",
            " ization)                                                                                         \n",
            "                                                                                                  \n",
            " block5f_expand_activation (Act  (None, 7, 7, 960)   0           ['block5f_expand_bn[0][0]']      \n",
            " ivation)                                                                                         \n",
            "                                                                                                  \n",
            " block5f_dwconv2 (DepthwiseConv  (None, 7, 7, 960)   8640        ['block5f_expand_activation[0][0]\n",
            " 2D)                                                             ']                               \n",
            "                                                                                                  \n",
            " block5f_bn (BatchNormalization  (None, 7, 7, 960)   3840        ['block5f_dwconv2[0][0]']        \n",
            " )                                                                                                \n",
            "                                                                                                  \n",
            " block5f_activation (Activation  (None, 7, 7, 960)   0           ['block5f_bn[0][0]']             \n",
            " )                                                                                                \n",
            "                                                                                                  \n",
            " block5f_se_squeeze (GlobalAver  (None, 960)         0           ['block5f_activation[0][0]']     \n",
            " agePooling2D)                                                                                    \n",
            "                                                                                                  \n",
            " block5f_se_reshape (Reshape)   (None, 1, 1, 960)    0           ['block5f_se_squeeze[0][0]']     \n",
            "                                                                                                  \n",
            " block5f_se_reduce (Conv2D)     (None, 1, 1, 40)     38440       ['block5f_se_reshape[0][0]']     \n",
            "                                                                                                  \n",
            " block5f_se_expand (Conv2D)     (None, 1, 1, 960)    39360       ['block5f_se_reduce[0][0]']      \n",
            "                                                                                                  \n",
            " block5f_se_excite (Multiply)   (None, 7, 7, 960)    0           ['block5f_activation[0][0]',     \n",
            "                                                                  'block5f_se_expand[0][0]']      \n",
            "                                                                                                  \n",
            " block5f_project_conv (Conv2D)  (None, 7, 7, 160)    153600      ['block5f_se_excite[0][0]']      \n",
            "                                                                                                  \n",
            " block5f_project_bn (BatchNorma  (None, 7, 7, 160)   640         ['block5f_project_conv[0][0]']   \n",
            " lization)                                                                                        \n",
            "                                                                                                  \n",
            " block5f_add (Add)              (None, 7, 7, 160)    0           ['block5f_project_bn[0][0]',     \n",
            "                                                                  'block5e_add[0][0]']            \n",
            "                                                                                                  \n",
            " block5g_expand_conv (Conv2D)   (None, 7, 7, 960)    153600      ['block5f_add[0][0]']            \n",
            "                                                                                                  \n",
            " block5g_expand_bn (BatchNormal  (None, 7, 7, 960)   3840        ['block5g_expand_conv[0][0]']    \n",
            " ization)                                                                                         \n",
            "                                                                                                  \n",
            " block5g_expand_activation (Act  (None, 7, 7, 960)   0           ['block5g_expand_bn[0][0]']      \n",
            " ivation)                                                                                         \n",
            "                                                                                                  \n",
            " block5g_dwconv2 (DepthwiseConv  (None, 7, 7, 960)   8640        ['block5g_expand_activation[0][0]\n",
            " 2D)                                                             ']                               \n",
            "                                                                                                  \n",
            " block5g_bn (BatchNormalization  (None, 7, 7, 960)   3840        ['block5g_dwconv2[0][0]']        \n",
            " )                                                                                                \n",
            "                                                                                                  \n",
            " block5g_activation (Activation  (None, 7, 7, 960)   0           ['block5g_bn[0][0]']             \n",
            " )                                                                                                \n",
            "                                                                                                  \n",
            " block5g_se_squeeze (GlobalAver  (None, 960)         0           ['block5g_activation[0][0]']     \n",
            " agePooling2D)                                                                                    \n",
            "                                                                                                  \n",
            " block5g_se_reshape (Reshape)   (None, 1, 1, 960)    0           ['block5g_se_squeeze[0][0]']     \n",
            "                                                                                                  \n",
            " block5g_se_reduce (Conv2D)     (None, 1, 1, 40)     38440       ['block5g_se_reshape[0][0]']     \n",
            "                                                                                                  \n",
            " block5g_se_expand (Conv2D)     (None, 1, 1, 960)    39360       ['block5g_se_reduce[0][0]']      \n",
            "                                                                                                  \n",
            " block5g_se_excite (Multiply)   (None, 7, 7, 960)    0           ['block5g_activation[0][0]',     \n",
            "                                                                  'block5g_se_expand[0][0]']      \n",
            "                                                                                                  \n",
            " block5g_project_conv (Conv2D)  (None, 7, 7, 160)    153600      ['block5g_se_excite[0][0]']      \n",
            "                                                                                                  \n",
            " block5g_project_bn (BatchNorma  (None, 7, 7, 160)   640         ['block5g_project_conv[0][0]']   \n",
            " lization)                                                                                        \n",
            "                                                                                                  \n",
            " block5g_add (Add)              (None, 7, 7, 160)    0           ['block5g_project_bn[0][0]',     \n",
            "                                                                  'block5f_add[0][0]']            \n",
            "                                                                                                  \n",
            " block5h_expand_conv (Conv2D)   (None, 7, 7, 960)    153600      ['block5g_add[0][0]']            \n",
            "                                                                                                  \n",
            " block5h_expand_bn (BatchNormal  (None, 7, 7, 960)   3840        ['block5h_expand_conv[0][0]']    \n",
            " ization)                                                                                         \n",
            "                                                                                                  \n",
            " block5h_expand_activation (Act  (None, 7, 7, 960)   0           ['block5h_expand_bn[0][0]']      \n",
            " ivation)                                                                                         \n",
            "                                                                                                  \n",
            " block5h_dwconv2 (DepthwiseConv  (None, 7, 7, 960)   8640        ['block5h_expand_activation[0][0]\n",
            " 2D)                                                             ']                               \n",
            "                                                                                                  \n",
            " block5h_bn (BatchNormalization  (None, 7, 7, 960)   3840        ['block5h_dwconv2[0][0]']        \n",
            " )                                                                                                \n",
            "                                                                                                  \n",
            " block5h_activation (Activation  (None, 7, 7, 960)   0           ['block5h_bn[0][0]']             \n",
            " )                                                                                                \n",
            "                                                                                                  \n",
            " block5h_se_squeeze (GlobalAver  (None, 960)         0           ['block5h_activation[0][0]']     \n",
            " agePooling2D)                                                                                    \n",
            "                                                                                                  \n",
            " block5h_se_reshape (Reshape)   (None, 1, 1, 960)    0           ['block5h_se_squeeze[0][0]']     \n",
            "                                                                                                  \n",
            " block5h_se_reduce (Conv2D)     (None, 1, 1, 40)     38440       ['block5h_se_reshape[0][0]']     \n",
            "                                                                                                  \n",
            " block5h_se_expand (Conv2D)     (None, 1, 1, 960)    39360       ['block5h_se_reduce[0][0]']      \n",
            "                                                                                                  \n",
            " block5h_se_excite (Multiply)   (None, 7, 7, 960)    0           ['block5h_activation[0][0]',     \n",
            "                                                                  'block5h_se_expand[0][0]']      \n",
            "                                                                                                  \n",
            " block5h_project_conv (Conv2D)  (None, 7, 7, 160)    153600      ['block5h_se_excite[0][0]']      \n",
            "                                                                                                  \n",
            " block5h_project_bn (BatchNorma  (None, 7, 7, 160)   640         ['block5h_project_conv[0][0]']   \n",
            " lization)                                                                                        \n",
            "                                                                                                  \n",
            " block5h_add (Add)              (None, 7, 7, 160)    0           ['block5h_project_bn[0][0]',     \n",
            "                                                                  'block5g_add[0][0]']            \n",
            "                                                                                                  \n",
            " block5i_expand_conv (Conv2D)   (None, 7, 7, 960)    153600      ['block5h_add[0][0]']            \n",
            "                                                                                                  \n",
            " block5i_expand_bn (BatchNormal  (None, 7, 7, 960)   3840        ['block5i_expand_conv[0][0]']    \n",
            " ization)                                                                                         \n",
            "                                                                                                  \n",
            " block5i_expand_activation (Act  (None, 7, 7, 960)   0           ['block5i_expand_bn[0][0]']      \n",
            " ivation)                                                                                         \n",
            "                                                                                                  \n",
            " block5i_dwconv2 (DepthwiseConv  (None, 7, 7, 960)   8640        ['block5i_expand_activation[0][0]\n",
            " 2D)                                                             ']                               \n",
            "                                                                                                  \n",
            " block5i_bn (BatchNormalization  (None, 7, 7, 960)   3840        ['block5i_dwconv2[0][0]']        \n",
            " )                                                                                                \n",
            "                                                                                                  \n",
            " block5i_activation (Activation  (None, 7, 7, 960)   0           ['block5i_bn[0][0]']             \n",
            " )                                                                                                \n",
            "                                                                                                  \n",
            " block5i_se_squeeze (GlobalAver  (None, 960)         0           ['block5i_activation[0][0]']     \n",
            " agePooling2D)                                                                                    \n",
            "                                                                                                  \n",
            " block5i_se_reshape (Reshape)   (None, 1, 1, 960)    0           ['block5i_se_squeeze[0][0]']     \n",
            "                                                                                                  \n",
            " block5i_se_reduce (Conv2D)     (None, 1, 1, 40)     38440       ['block5i_se_reshape[0][0]']     \n",
            "                                                                                                  \n",
            " block5i_se_expand (Conv2D)     (None, 1, 1, 960)    39360       ['block5i_se_reduce[0][0]']      \n",
            "                                                                                                  \n",
            " block5i_se_excite (Multiply)   (None, 7, 7, 960)    0           ['block5i_activation[0][0]',     \n",
            "                                                                  'block5i_se_expand[0][0]']      \n",
            "                                                                                                  \n",
            " block5i_project_conv (Conv2D)  (None, 7, 7, 160)    153600      ['block5i_se_excite[0][0]']      \n",
            "                                                                                                  \n",
            " block5i_project_bn (BatchNorma  (None, 7, 7, 160)   640         ['block5i_project_conv[0][0]']   \n",
            " lization)                                                                                        \n",
            "                                                                                                  \n",
            " block5i_add (Add)              (None, 7, 7, 160)    0           ['block5i_project_bn[0][0]',     \n",
            "                                                                  'block5h_add[0][0]']            \n",
            "                                                                                                  \n",
            " block6a_expand_conv (Conv2D)   (None, 7, 7, 960)    153600      ['block5i_add[0][0]']            \n",
            "                                                                                                  \n",
            " block6a_expand_bn (BatchNormal  (None, 7, 7, 960)   3840        ['block6a_expand_conv[0][0]']    \n",
            " ization)                                                                                         \n",
            "                                                                                                  \n",
            " block6a_expand_activation (Act  (None, 7, 7, 960)   0           ['block6a_expand_bn[0][0]']      \n",
            " ivation)                                                                                         \n",
            "                                                                                                  \n",
            " block6a_dwconv2 (DepthwiseConv  (None, 4, 4, 960)   8640        ['block6a_expand_activation[0][0]\n",
            " 2D)                                                             ']                               \n",
            "                                                                                                  \n",
            " block6a_bn (BatchNormalization  (None, 4, 4, 960)   3840        ['block6a_dwconv2[0][0]']        \n",
            " )                                                                                                \n",
            "                                                                                                  \n",
            " block6a_activation (Activation  (None, 4, 4, 960)   0           ['block6a_bn[0][0]']             \n",
            " )                                                                                                \n",
            "                                                                                                  \n",
            " block6a_se_squeeze (GlobalAver  (None, 960)         0           ['block6a_activation[0][0]']     \n",
            " agePooling2D)                                                                                    \n",
            "                                                                                                  \n",
            " block6a_se_reshape (Reshape)   (None, 1, 1, 960)    0           ['block6a_se_squeeze[0][0]']     \n",
            "                                                                                                  \n",
            " block6a_se_reduce (Conv2D)     (None, 1, 1, 40)     38440       ['block6a_se_reshape[0][0]']     \n",
            "                                                                                                  \n",
            " block6a_se_expand (Conv2D)     (None, 1, 1, 960)    39360       ['block6a_se_reduce[0][0]']      \n",
            "                                                                                                  \n",
            " block6a_se_excite (Multiply)   (None, 4, 4, 960)    0           ['block6a_activation[0][0]',     \n",
            "                                                                  'block6a_se_expand[0][0]']      \n",
            "                                                                                                  \n",
            " block6a_project_conv (Conv2D)  (None, 4, 4, 256)    245760      ['block6a_se_excite[0][0]']      \n",
            "                                                                                                  \n",
            " block6a_project_bn (BatchNorma  (None, 4, 4, 256)   1024        ['block6a_project_conv[0][0]']   \n",
            " lization)                                                                                        \n",
            "                                                                                                  \n",
            " block6b_expand_conv (Conv2D)   (None, 4, 4, 1536)   393216      ['block6a_project_bn[0][0]']     \n",
            "                                                                                                  \n",
            " block6b_expand_bn (BatchNormal  (None, 4, 4, 1536)  6144        ['block6b_expand_conv[0][0]']    \n",
            " ization)                                                                                         \n",
            "                                                                                                  \n",
            " block6b_expand_activation (Act  (None, 4, 4, 1536)  0           ['block6b_expand_bn[0][0]']      \n",
            " ivation)                                                                                         \n",
            "                                                                                                  \n",
            " block6b_dwconv2 (DepthwiseConv  (None, 4, 4, 1536)  13824       ['block6b_expand_activation[0][0]\n",
            " 2D)                                                             ']                               \n",
            "                                                                                                  \n",
            " block6b_bn (BatchNormalization  (None, 4, 4, 1536)  6144        ['block6b_dwconv2[0][0]']        \n",
            " )                                                                                                \n",
            "                                                                                                  \n",
            " block6b_activation (Activation  (None, 4, 4, 1536)  0           ['block6b_bn[0][0]']             \n",
            " )                                                                                                \n",
            "                                                                                                  \n",
            " block6b_se_squeeze (GlobalAver  (None, 1536)        0           ['block6b_activation[0][0]']     \n",
            " agePooling2D)                                                                                    \n",
            "                                                                                                  \n",
            " block6b_se_reshape (Reshape)   (None, 1, 1, 1536)   0           ['block6b_se_squeeze[0][0]']     \n",
            "                                                                                                  \n",
            " block6b_se_reduce (Conv2D)     (None, 1, 1, 64)     98368       ['block6b_se_reshape[0][0]']     \n",
            "                                                                                                  \n",
            " block6b_se_expand (Conv2D)     (None, 1, 1, 1536)   99840       ['block6b_se_reduce[0][0]']      \n",
            "                                                                                                  \n",
            " block6b_se_excite (Multiply)   (None, 4, 4, 1536)   0           ['block6b_activation[0][0]',     \n",
            "                                                                  'block6b_se_expand[0][0]']      \n",
            "                                                                                                  \n",
            " block6b_project_conv (Conv2D)  (None, 4, 4, 256)    393216      ['block6b_se_excite[0][0]']      \n",
            "                                                                                                  \n",
            " block6b_project_bn (BatchNorma  (None, 4, 4, 256)   1024        ['block6b_project_conv[0][0]']   \n",
            " lization)                                                                                        \n",
            "                                                                                                  \n",
            " block6b_add (Add)              (None, 4, 4, 256)    0           ['block6b_project_bn[0][0]',     \n",
            "                                                                  'block6a_project_bn[0][0]']     \n",
            "                                                                                                  \n",
            " block6c_expand_conv (Conv2D)   (None, 4, 4, 1536)   393216      ['block6b_add[0][0]']            \n",
            "                                                                                                  \n",
            " block6c_expand_bn (BatchNormal  (None, 4, 4, 1536)  6144        ['block6c_expand_conv[0][0]']    \n",
            " ization)                                                                                         \n",
            "                                                                                                  \n",
            " block6c_expand_activation (Act  (None, 4, 4, 1536)  0           ['block6c_expand_bn[0][0]']      \n",
            " ivation)                                                                                         \n",
            "                                                                                                  \n",
            " block6c_dwconv2 (DepthwiseConv  (None, 4, 4, 1536)  13824       ['block6c_expand_activation[0][0]\n",
            " 2D)                                                             ']                               \n",
            "                                                                                                  \n",
            " block6c_bn (BatchNormalization  (None, 4, 4, 1536)  6144        ['block6c_dwconv2[0][0]']        \n",
            " )                                                                                                \n",
            "                                                                                                  \n",
            " block6c_activation (Activation  (None, 4, 4, 1536)  0           ['block6c_bn[0][0]']             \n",
            " )                                                                                                \n",
            "                                                                                                  \n",
            " block6c_se_squeeze (GlobalAver  (None, 1536)        0           ['block6c_activation[0][0]']     \n",
            " agePooling2D)                                                                                    \n",
            "                                                                                                  \n",
            " block6c_se_reshape (Reshape)   (None, 1, 1, 1536)   0           ['block6c_se_squeeze[0][0]']     \n",
            "                                                                                                  \n",
            " block6c_se_reduce (Conv2D)     (None, 1, 1, 64)     98368       ['block6c_se_reshape[0][0]']     \n",
            "                                                                                                  \n",
            " block6c_se_expand (Conv2D)     (None, 1, 1, 1536)   99840       ['block6c_se_reduce[0][0]']      \n",
            "                                                                                                  \n",
            " block6c_se_excite (Multiply)   (None, 4, 4, 1536)   0           ['block6c_activation[0][0]',     \n",
            "                                                                  'block6c_se_expand[0][0]']      \n",
            "                                                                                                  \n",
            " block6c_project_conv (Conv2D)  (None, 4, 4, 256)    393216      ['block6c_se_excite[0][0]']      \n",
            "                                                                                                  \n",
            " block6c_project_bn (BatchNorma  (None, 4, 4, 256)   1024        ['block6c_project_conv[0][0]']   \n",
            " lization)                                                                                        \n",
            "                                                                                                  \n",
            " block6c_add (Add)              (None, 4, 4, 256)    0           ['block6c_project_bn[0][0]',     \n",
            "                                                                  'block6b_add[0][0]']            \n",
            "                                                                                                  \n",
            " block6d_expand_conv (Conv2D)   (None, 4, 4, 1536)   393216      ['block6c_add[0][0]']            \n",
            "                                                                                                  \n",
            " block6d_expand_bn (BatchNormal  (None, 4, 4, 1536)  6144        ['block6d_expand_conv[0][0]']    \n",
            " ization)                                                                                         \n",
            "                                                                                                  \n",
            " block6d_expand_activation (Act  (None, 4, 4, 1536)  0           ['block6d_expand_bn[0][0]']      \n",
            " ivation)                                                                                         \n",
            "                                                                                                  \n",
            " block6d_dwconv2 (DepthwiseConv  (None, 4, 4, 1536)  13824       ['block6d_expand_activation[0][0]\n",
            " 2D)                                                             ']                               \n",
            "                                                                                                  \n",
            " block6d_bn (BatchNormalization  (None, 4, 4, 1536)  6144        ['block6d_dwconv2[0][0]']        \n",
            " )                                                                                                \n",
            "                                                                                                  \n",
            " block6d_activation (Activation  (None, 4, 4, 1536)  0           ['block6d_bn[0][0]']             \n",
            " )                                                                                                \n",
            "                                                                                                  \n",
            " block6d_se_squeeze (GlobalAver  (None, 1536)        0           ['block6d_activation[0][0]']     \n",
            " agePooling2D)                                                                                    \n",
            "                                                                                                  \n",
            " block6d_se_reshape (Reshape)   (None, 1, 1, 1536)   0           ['block6d_se_squeeze[0][0]']     \n",
            "                                                                                                  \n",
            " block6d_se_reduce (Conv2D)     (None, 1, 1, 64)     98368       ['block6d_se_reshape[0][0]']     \n",
            "                                                                                                  \n",
            " block6d_se_expand (Conv2D)     (None, 1, 1, 1536)   99840       ['block6d_se_reduce[0][0]']      \n",
            "                                                                                                  \n",
            " block6d_se_excite (Multiply)   (None, 4, 4, 1536)   0           ['block6d_activation[0][0]',     \n",
            "                                                                  'block6d_se_expand[0][0]']      \n",
            "                                                                                                  \n",
            " block6d_project_conv (Conv2D)  (None, 4, 4, 256)    393216      ['block6d_se_excite[0][0]']      \n",
            "                                                                                                  \n",
            " block6d_project_bn (BatchNorma  (None, 4, 4, 256)   1024        ['block6d_project_conv[0][0]']   \n",
            " lization)                                                                                        \n",
            "                                                                                                  \n",
            " block6d_add (Add)              (None, 4, 4, 256)    0           ['block6d_project_bn[0][0]',     \n",
            "                                                                  'block6c_add[0][0]']            \n",
            "                                                                                                  \n",
            " block6e_expand_conv (Conv2D)   (None, 4, 4, 1536)   393216      ['block6d_add[0][0]']            \n",
            "                                                                                                  \n",
            " block6e_expand_bn (BatchNormal  (None, 4, 4, 1536)  6144        ['block6e_expand_conv[0][0]']    \n",
            " ization)                                                                                         \n",
            "                                                                                                  \n",
            " block6e_expand_activation (Act  (None, 4, 4, 1536)  0           ['block6e_expand_bn[0][0]']      \n",
            " ivation)                                                                                         \n",
            "                                                                                                  \n",
            " block6e_dwconv2 (DepthwiseConv  (None, 4, 4, 1536)  13824       ['block6e_expand_activation[0][0]\n",
            " 2D)                                                             ']                               \n",
            "                                                                                                  \n",
            " block6e_bn (BatchNormalization  (None, 4, 4, 1536)  6144        ['block6e_dwconv2[0][0]']        \n",
            " )                                                                                                \n",
            "                                                                                                  \n",
            " block6e_activation (Activation  (None, 4, 4, 1536)  0           ['block6e_bn[0][0]']             \n",
            " )                                                                                                \n",
            "                                                                                                  \n",
            " block6e_se_squeeze (GlobalAver  (None, 1536)        0           ['block6e_activation[0][0]']     \n",
            " agePooling2D)                                                                                    \n",
            "                                                                                                  \n",
            " block6e_se_reshape (Reshape)   (None, 1, 1, 1536)   0           ['block6e_se_squeeze[0][0]']     \n",
            "                                                                                                  \n",
            " block6e_se_reduce (Conv2D)     (None, 1, 1, 64)     98368       ['block6e_se_reshape[0][0]']     \n",
            "                                                                                                  \n",
            " block6e_se_expand (Conv2D)     (None, 1, 1, 1536)   99840       ['block6e_se_reduce[0][0]']      \n",
            "                                                                                                  \n",
            " block6e_se_excite (Multiply)   (None, 4, 4, 1536)   0           ['block6e_activation[0][0]',     \n",
            "                                                                  'block6e_se_expand[0][0]']      \n",
            "                                                                                                  \n",
            " block6e_project_conv (Conv2D)  (None, 4, 4, 256)    393216      ['block6e_se_excite[0][0]']      \n",
            "                                                                                                  \n",
            " block6e_project_bn (BatchNorma  (None, 4, 4, 256)   1024        ['block6e_project_conv[0][0]']   \n",
            " lization)                                                                                        \n",
            "                                                                                                  \n",
            " block6e_add (Add)              (None, 4, 4, 256)    0           ['block6e_project_bn[0][0]',     \n",
            "                                                                  'block6d_add[0][0]']            \n",
            "                                                                                                  \n",
            " block6f_expand_conv (Conv2D)   (None, 4, 4, 1536)   393216      ['block6e_add[0][0]']            \n",
            "                                                                                                  \n",
            " block6f_expand_bn (BatchNormal  (None, 4, 4, 1536)  6144        ['block6f_expand_conv[0][0]']    \n",
            " ization)                                                                                         \n",
            "                                                                                                  \n",
            " block6f_expand_activation (Act  (None, 4, 4, 1536)  0           ['block6f_expand_bn[0][0]']      \n",
            " ivation)                                                                                         \n",
            "                                                                                                  \n",
            " block6f_dwconv2 (DepthwiseConv  (None, 4, 4, 1536)  13824       ['block6f_expand_activation[0][0]\n",
            " 2D)                                                             ']                               \n",
            "                                                                                                  \n",
            " block6f_bn (BatchNormalization  (None, 4, 4, 1536)  6144        ['block6f_dwconv2[0][0]']        \n",
            " )                                                                                                \n",
            "                                                                                                  \n",
            " block6f_activation (Activation  (None, 4, 4, 1536)  0           ['block6f_bn[0][0]']             \n",
            " )                                                                                                \n",
            "                                                                                                  \n",
            " block6f_se_squeeze (GlobalAver  (None, 1536)        0           ['block6f_activation[0][0]']     \n",
            " agePooling2D)                                                                                    \n",
            "                                                                                                  \n",
            " block6f_se_reshape (Reshape)   (None, 1, 1, 1536)   0           ['block6f_se_squeeze[0][0]']     \n",
            "                                                                                                  \n",
            " block6f_se_reduce (Conv2D)     (None, 1, 1, 64)     98368       ['block6f_se_reshape[0][0]']     \n",
            "                                                                                                  \n",
            " block6f_se_expand (Conv2D)     (None, 1, 1, 1536)   99840       ['block6f_se_reduce[0][0]']      \n",
            "                                                                                                  \n",
            " block6f_se_excite (Multiply)   (None, 4, 4, 1536)   0           ['block6f_activation[0][0]',     \n",
            "                                                                  'block6f_se_expand[0][0]']      \n",
            "                                                                                                  \n",
            " block6f_project_conv (Conv2D)  (None, 4, 4, 256)    393216      ['block6f_se_excite[0][0]']      \n",
            "                                                                                                  \n",
            " block6f_project_bn (BatchNorma  (None, 4, 4, 256)   1024        ['block6f_project_conv[0][0]']   \n",
            " lization)                                                                                        \n",
            "                                                                                                  \n",
            " block6f_add (Add)              (None, 4, 4, 256)    0           ['block6f_project_bn[0][0]',     \n",
            "                                                                  'block6e_add[0][0]']            \n",
            "                                                                                                  \n",
            " block6g_expand_conv (Conv2D)   (None, 4, 4, 1536)   393216      ['block6f_add[0][0]']            \n",
            "                                                                                                  \n",
            " block6g_expand_bn (BatchNormal  (None, 4, 4, 1536)  6144        ['block6g_expand_conv[0][0]']    \n",
            " ization)                                                                                         \n",
            "                                                                                                  \n",
            " block6g_expand_activation (Act  (None, 4, 4, 1536)  0           ['block6g_expand_bn[0][0]']      \n",
            " ivation)                                                                                         \n",
            "                                                                                                  \n",
            " block6g_dwconv2 (DepthwiseConv  (None, 4, 4, 1536)  13824       ['block6g_expand_activation[0][0]\n",
            " 2D)                                                             ']                               \n",
            "                                                                                                  \n",
            " block6g_bn (BatchNormalization  (None, 4, 4, 1536)  6144        ['block6g_dwconv2[0][0]']        \n",
            " )                                                                                                \n",
            "                                                                                                  \n",
            " block6g_activation (Activation  (None, 4, 4, 1536)  0           ['block6g_bn[0][0]']             \n",
            " )                                                                                                \n",
            "                                                                                                  \n",
            " block6g_se_squeeze (GlobalAver  (None, 1536)        0           ['block6g_activation[0][0]']     \n",
            " agePooling2D)                                                                                    \n",
            "                                                                                                  \n",
            " block6g_se_reshape (Reshape)   (None, 1, 1, 1536)   0           ['block6g_se_squeeze[0][0]']     \n",
            "                                                                                                  \n",
            " block6g_se_reduce (Conv2D)     (None, 1, 1, 64)     98368       ['block6g_se_reshape[0][0]']     \n",
            "                                                                                                  \n",
            " block6g_se_expand (Conv2D)     (None, 1, 1, 1536)   99840       ['block6g_se_reduce[0][0]']      \n",
            "                                                                                                  \n",
            " block6g_se_excite (Multiply)   (None, 4, 4, 1536)   0           ['block6g_activation[0][0]',     \n",
            "                                                                  'block6g_se_expand[0][0]']      \n",
            "                                                                                                  \n",
            " block6g_project_conv (Conv2D)  (None, 4, 4, 256)    393216      ['block6g_se_excite[0][0]']      \n",
            "                                                                                                  \n",
            " block6g_project_bn (BatchNorma  (None, 4, 4, 256)   1024        ['block6g_project_conv[0][0]']   \n",
            " lization)                                                                                        \n",
            "                                                                                                  \n",
            " block6g_add (Add)              (None, 4, 4, 256)    0           ['block6g_project_bn[0][0]',     \n",
            "                                                                  'block6f_add[0][0]']            \n",
            "                                                                                                  \n",
            " block6h_expand_conv (Conv2D)   (None, 4, 4, 1536)   393216      ['block6g_add[0][0]']            \n",
            "                                                                                                  \n",
            " block6h_expand_bn (BatchNormal  (None, 4, 4, 1536)  6144        ['block6h_expand_conv[0][0]']    \n",
            " ization)                                                                                         \n",
            "                                                                                                  \n",
            " block6h_expand_activation (Act  (None, 4, 4, 1536)  0           ['block6h_expand_bn[0][0]']      \n",
            " ivation)                                                                                         \n",
            "                                                                                                  \n",
            " block6h_dwconv2 (DepthwiseConv  (None, 4, 4, 1536)  13824       ['block6h_expand_activation[0][0]\n",
            " 2D)                                                             ']                               \n",
            "                                                                                                  \n",
            " block6h_bn (BatchNormalization  (None, 4, 4, 1536)  6144        ['block6h_dwconv2[0][0]']        \n",
            " )                                                                                                \n",
            "                                                                                                  \n",
            " block6h_activation (Activation  (None, 4, 4, 1536)  0           ['block6h_bn[0][0]']             \n",
            " )                                                                                                \n",
            "                                                                                                  \n",
            " block6h_se_squeeze (GlobalAver  (None, 1536)        0           ['block6h_activation[0][0]']     \n",
            " agePooling2D)                                                                                    \n",
            "                                                                                                  \n",
            " block6h_se_reshape (Reshape)   (None, 1, 1, 1536)   0           ['block6h_se_squeeze[0][0]']     \n",
            "                                                                                                  \n",
            " block6h_se_reduce (Conv2D)     (None, 1, 1, 64)     98368       ['block6h_se_reshape[0][0]']     \n",
            "                                                                                                  \n",
            " block6h_se_expand (Conv2D)     (None, 1, 1, 1536)   99840       ['block6h_se_reduce[0][0]']      \n",
            "                                                                                                  \n",
            " block6h_se_excite (Multiply)   (None, 4, 4, 1536)   0           ['block6h_activation[0][0]',     \n",
            "                                                                  'block6h_se_expand[0][0]']      \n",
            "                                                                                                  \n",
            " block6h_project_conv (Conv2D)  (None, 4, 4, 256)    393216      ['block6h_se_excite[0][0]']      \n",
            "                                                                                                  \n",
            " block6h_project_bn (BatchNorma  (None, 4, 4, 256)   1024        ['block6h_project_conv[0][0]']   \n",
            " lization)                                                                                        \n",
            "                                                                                                  \n",
            " block6h_add (Add)              (None, 4, 4, 256)    0           ['block6h_project_bn[0][0]',     \n",
            "                                                                  'block6g_add[0][0]']            \n",
            "                                                                                                  \n",
            " block6i_expand_conv (Conv2D)   (None, 4, 4, 1536)   393216      ['block6h_add[0][0]']            \n",
            "                                                                                                  \n",
            " block6i_expand_bn (BatchNormal  (None, 4, 4, 1536)  6144        ['block6i_expand_conv[0][0]']    \n",
            " ization)                                                                                         \n",
            "                                                                                                  \n",
            " block6i_expand_activation (Act  (None, 4, 4, 1536)  0           ['block6i_expand_bn[0][0]']      \n",
            " ivation)                                                                                         \n",
            "                                                                                                  \n",
            " block6i_dwconv2 (DepthwiseConv  (None, 4, 4, 1536)  13824       ['block6i_expand_activation[0][0]\n",
            " 2D)                                                             ']                               \n",
            "                                                                                                  \n",
            " block6i_bn (BatchNormalization  (None, 4, 4, 1536)  6144        ['block6i_dwconv2[0][0]']        \n",
            " )                                                                                                \n",
            "                                                                                                  \n",
            " block6i_activation (Activation  (None, 4, 4, 1536)  0           ['block6i_bn[0][0]']             \n",
            " )                                                                                                \n",
            "                                                                                                  \n",
            " block6i_se_squeeze (GlobalAver  (None, 1536)        0           ['block6i_activation[0][0]']     \n",
            " agePooling2D)                                                                                    \n",
            "                                                                                                  \n",
            " block6i_se_reshape (Reshape)   (None, 1, 1, 1536)   0           ['block6i_se_squeeze[0][0]']     \n",
            "                                                                                                  \n",
            " block6i_se_reduce (Conv2D)     (None, 1, 1, 64)     98368       ['block6i_se_reshape[0][0]']     \n",
            "                                                                                                  \n",
            " block6i_se_expand (Conv2D)     (None, 1, 1, 1536)   99840       ['block6i_se_reduce[0][0]']      \n",
            "                                                                                                  \n",
            " block6i_se_excite (Multiply)   (None, 4, 4, 1536)   0           ['block6i_activation[0][0]',     \n",
            "                                                                  'block6i_se_expand[0][0]']      \n",
            "                                                                                                  \n",
            " block6i_project_conv (Conv2D)  (None, 4, 4, 256)    393216      ['block6i_se_excite[0][0]']      \n",
            "                                                                                                  \n",
            " block6i_project_bn (BatchNorma  (None, 4, 4, 256)   1024        ['block6i_project_conv[0][0]']   \n",
            " lization)                                                                                        \n",
            "                                                                                                  \n",
            " block6i_add (Add)              (None, 4, 4, 256)    0           ['block6i_project_bn[0][0]',     \n",
            "                                                                  'block6h_add[0][0]']            \n",
            "                                                                                                  \n",
            " block6j_expand_conv (Conv2D)   (None, 4, 4, 1536)   393216      ['block6i_add[0][0]']            \n",
            "                                                                                                  \n",
            " block6j_expand_bn (BatchNormal  (None, 4, 4, 1536)  6144        ['block6j_expand_conv[0][0]']    \n",
            " ization)                                                                                         \n",
            "                                                                                                  \n",
            " block6j_expand_activation (Act  (None, 4, 4, 1536)  0           ['block6j_expand_bn[0][0]']      \n",
            " ivation)                                                                                         \n",
            "                                                                                                  \n",
            " block6j_dwconv2 (DepthwiseConv  (None, 4, 4, 1536)  13824       ['block6j_expand_activation[0][0]\n",
            " 2D)                                                             ']                               \n",
            "                                                                                                  \n",
            " block6j_bn (BatchNormalization  (None, 4, 4, 1536)  6144        ['block6j_dwconv2[0][0]']        \n",
            " )                                                                                                \n",
            "                                                                                                  \n",
            " block6j_activation (Activation  (None, 4, 4, 1536)  0           ['block6j_bn[0][0]']             \n",
            " )                                                                                                \n",
            "                                                                                                  \n",
            " block6j_se_squeeze (GlobalAver  (None, 1536)        0           ['block6j_activation[0][0]']     \n",
            " agePooling2D)                                                                                    \n",
            "                                                                                                  \n",
            " block6j_se_reshape (Reshape)   (None, 1, 1, 1536)   0           ['block6j_se_squeeze[0][0]']     \n",
            "                                                                                                  \n",
            " block6j_se_reduce (Conv2D)     (None, 1, 1, 64)     98368       ['block6j_se_reshape[0][0]']     \n",
            "                                                                                                  \n",
            " block6j_se_expand (Conv2D)     (None, 1, 1, 1536)   99840       ['block6j_se_reduce[0][0]']      \n",
            "                                                                                                  \n",
            " block6j_se_excite (Multiply)   (None, 4, 4, 1536)   0           ['block6j_activation[0][0]',     \n",
            "                                                                  'block6j_se_expand[0][0]']      \n",
            "                                                                                                  \n",
            " block6j_project_conv (Conv2D)  (None, 4, 4, 256)    393216      ['block6j_se_excite[0][0]']      \n",
            "                                                                                                  \n",
            " block6j_project_bn (BatchNorma  (None, 4, 4, 256)   1024        ['block6j_project_conv[0][0]']   \n",
            " lization)                                                                                        \n",
            "                                                                                                  \n",
            " block6j_add (Add)              (None, 4, 4, 256)    0           ['block6j_project_bn[0][0]',     \n",
            "                                                                  'block6i_add[0][0]']            \n",
            "                                                                                                  \n",
            " block6k_expand_conv (Conv2D)   (None, 4, 4, 1536)   393216      ['block6j_add[0][0]']            \n",
            "                                                                                                  \n",
            " block6k_expand_bn (BatchNormal  (None, 4, 4, 1536)  6144        ['block6k_expand_conv[0][0]']    \n",
            " ization)                                                                                         \n",
            "                                                                                                  \n",
            " block6k_expand_activation (Act  (None, 4, 4, 1536)  0           ['block6k_expand_bn[0][0]']      \n",
            " ivation)                                                                                         \n",
            "                                                                                                  \n",
            " block6k_dwconv2 (DepthwiseConv  (None, 4, 4, 1536)  13824       ['block6k_expand_activation[0][0]\n",
            " 2D)                                                             ']                               \n",
            "                                                                                                  \n",
            " block6k_bn (BatchNormalization  (None, 4, 4, 1536)  6144        ['block6k_dwconv2[0][0]']        \n",
            " )                                                                                                \n",
            "                                                                                                  \n",
            " block6k_activation (Activation  (None, 4, 4, 1536)  0           ['block6k_bn[0][0]']             \n",
            " )                                                                                                \n",
            "                                                                                                  \n",
            " block6k_se_squeeze (GlobalAver  (None, 1536)        0           ['block6k_activation[0][0]']     \n",
            " agePooling2D)                                                                                    \n",
            "                                                                                                  \n",
            " block6k_se_reshape (Reshape)   (None, 1, 1, 1536)   0           ['block6k_se_squeeze[0][0]']     \n",
            "                                                                                                  \n",
            " block6k_se_reduce (Conv2D)     (None, 1, 1, 64)     98368       ['block6k_se_reshape[0][0]']     \n",
            "                                                                                                  \n",
            " block6k_se_expand (Conv2D)     (None, 1, 1, 1536)   99840       ['block6k_se_reduce[0][0]']      \n",
            "                                                                                                  \n",
            " block6k_se_excite (Multiply)   (None, 4, 4, 1536)   0           ['block6k_activation[0][0]',     \n",
            "                                                                  'block6k_se_expand[0][0]']      \n",
            "                                                                                                  \n",
            " block6k_project_conv (Conv2D)  (None, 4, 4, 256)    393216      ['block6k_se_excite[0][0]']      \n",
            "                                                                                                  \n",
            " block6k_project_bn (BatchNorma  (None, 4, 4, 256)   1024        ['block6k_project_conv[0][0]']   \n",
            " lization)                                                                                        \n",
            "                                                                                                  \n",
            " block6k_add (Add)              (None, 4, 4, 256)    0           ['block6k_project_bn[0][0]',     \n",
            "                                                                  'block6j_add[0][0]']            \n",
            "                                                                                                  \n",
            " block6l_expand_conv (Conv2D)   (None, 4, 4, 1536)   393216      ['block6k_add[0][0]']            \n",
            "                                                                                                  \n",
            " block6l_expand_bn (BatchNormal  (None, 4, 4, 1536)  6144        ['block6l_expand_conv[0][0]']    \n",
            " ization)                                                                                         \n",
            "                                                                                                  \n",
            " block6l_expand_activation (Act  (None, 4, 4, 1536)  0           ['block6l_expand_bn[0][0]']      \n",
            " ivation)                                                                                         \n",
            "                                                                                                  \n",
            " block6l_dwconv2 (DepthwiseConv  (None, 4, 4, 1536)  13824       ['block6l_expand_activation[0][0]\n",
            " 2D)                                                             ']                               \n",
            "                                                                                                  \n",
            " block6l_bn (BatchNormalization  (None, 4, 4, 1536)  6144        ['block6l_dwconv2[0][0]']        \n",
            " )                                                                                                \n",
            "                                                                                                  \n",
            " block6l_activation (Activation  (None, 4, 4, 1536)  0           ['block6l_bn[0][0]']             \n",
            " )                                                                                                \n",
            "                                                                                                  \n",
            " block6l_se_squeeze (GlobalAver  (None, 1536)        0           ['block6l_activation[0][0]']     \n",
            " agePooling2D)                                                                                    \n",
            "                                                                                                  \n",
            " block6l_se_reshape (Reshape)   (None, 1, 1, 1536)   0           ['block6l_se_squeeze[0][0]']     \n",
            "                                                                                                  \n",
            " block6l_se_reduce (Conv2D)     (None, 1, 1, 64)     98368       ['block6l_se_reshape[0][0]']     \n",
            "                                                                                                  \n",
            " block6l_se_expand (Conv2D)     (None, 1, 1, 1536)   99840       ['block6l_se_reduce[0][0]']      \n",
            "                                                                                                  \n",
            " block6l_se_excite (Multiply)   (None, 4, 4, 1536)   0           ['block6l_activation[0][0]',     \n",
            "                                                                  'block6l_se_expand[0][0]']      \n",
            "                                                                                                  \n",
            " block6l_project_conv (Conv2D)  (None, 4, 4, 256)    393216      ['block6l_se_excite[0][0]']      \n",
            "                                                                                                  \n",
            " block6l_project_bn (BatchNorma  (None, 4, 4, 256)   1024        ['block6l_project_conv[0][0]']   \n",
            " lization)                                                                                        \n",
            "                                                                                                  \n",
            " block6l_add (Add)              (None, 4, 4, 256)    0           ['block6l_project_bn[0][0]',     \n",
            "                                                                  'block6k_add[0][0]']            \n",
            "                                                                                                  \n",
            " block6m_expand_conv (Conv2D)   (None, 4, 4, 1536)   393216      ['block6l_add[0][0]']            \n",
            "                                                                                                  \n",
            " block6m_expand_bn (BatchNormal  (None, 4, 4, 1536)  6144        ['block6m_expand_conv[0][0]']    \n",
            " ization)                                                                                         \n",
            "                                                                                                  \n",
            " block6m_expand_activation (Act  (None, 4, 4, 1536)  0           ['block6m_expand_bn[0][0]']      \n",
            " ivation)                                                                                         \n",
            "                                                                                                  \n",
            " block6m_dwconv2 (DepthwiseConv  (None, 4, 4, 1536)  13824       ['block6m_expand_activation[0][0]\n",
            " 2D)                                                             ']                               \n",
            "                                                                                                  \n",
            " block6m_bn (BatchNormalization  (None, 4, 4, 1536)  6144        ['block6m_dwconv2[0][0]']        \n",
            " )                                                                                                \n",
            "                                                                                                  \n",
            " block6m_activation (Activation  (None, 4, 4, 1536)  0           ['block6m_bn[0][0]']             \n",
            " )                                                                                                \n",
            "                                                                                                  \n",
            " block6m_se_squeeze (GlobalAver  (None, 1536)        0           ['block6m_activation[0][0]']     \n",
            " agePooling2D)                                                                                    \n",
            "                                                                                                  \n",
            " block6m_se_reshape (Reshape)   (None, 1, 1, 1536)   0           ['block6m_se_squeeze[0][0]']     \n",
            "                                                                                                  \n",
            " block6m_se_reduce (Conv2D)     (None, 1, 1, 64)     98368       ['block6m_se_reshape[0][0]']     \n",
            "                                                                                                  \n",
            " block6m_se_expand (Conv2D)     (None, 1, 1, 1536)   99840       ['block6m_se_reduce[0][0]']      \n",
            "                                                                                                  \n",
            " block6m_se_excite (Multiply)   (None, 4, 4, 1536)   0           ['block6m_activation[0][0]',     \n",
            "                                                                  'block6m_se_expand[0][0]']      \n",
            "                                                                                                  \n",
            " block6m_project_conv (Conv2D)  (None, 4, 4, 256)    393216      ['block6m_se_excite[0][0]']      \n",
            "                                                                                                  \n",
            " block6m_project_bn (BatchNorma  (None, 4, 4, 256)   1024        ['block6m_project_conv[0][0]']   \n",
            " lization)                                                                                        \n",
            "                                                                                                  \n",
            " block6m_add (Add)              (None, 4, 4, 256)    0           ['block6m_project_bn[0][0]',     \n",
            "                                                                  'block6l_add[0][0]']            \n",
            "                                                                                                  \n",
            " block6n_expand_conv (Conv2D)   (None, 4, 4, 1536)   393216      ['block6m_add[0][0]']            \n",
            "                                                                                                  \n",
            " block6n_expand_bn (BatchNormal  (None, 4, 4, 1536)  6144        ['block6n_expand_conv[0][0]']    \n",
            " ization)                                                                                         \n",
            "                                                                                                  \n",
            " block6n_expand_activation (Act  (None, 4, 4, 1536)  0           ['block6n_expand_bn[0][0]']      \n",
            " ivation)                                                                                         \n",
            "                                                                                                  \n",
            " block6n_dwconv2 (DepthwiseConv  (None, 4, 4, 1536)  13824       ['block6n_expand_activation[0][0]\n",
            " 2D)                                                             ']                               \n",
            "                                                                                                  \n",
            " block6n_bn (BatchNormalization  (None, 4, 4, 1536)  6144        ['block6n_dwconv2[0][0]']        \n",
            " )                                                                                                \n",
            "                                                                                                  \n",
            " block6n_activation (Activation  (None, 4, 4, 1536)  0           ['block6n_bn[0][0]']             \n",
            " )                                                                                                \n",
            "                                                                                                  \n",
            " block6n_se_squeeze (GlobalAver  (None, 1536)        0           ['block6n_activation[0][0]']     \n",
            " agePooling2D)                                                                                    \n",
            "                                                                                                  \n",
            " block6n_se_reshape (Reshape)   (None, 1, 1, 1536)   0           ['block6n_se_squeeze[0][0]']     \n",
            "                                                                                                  \n",
            " block6n_se_reduce (Conv2D)     (None, 1, 1, 64)     98368       ['block6n_se_reshape[0][0]']     \n",
            "                                                                                                  \n",
            " block6n_se_expand (Conv2D)     (None, 1, 1, 1536)   99840       ['block6n_se_reduce[0][0]']      \n",
            "                                                                                                  \n",
            " block6n_se_excite (Multiply)   (None, 4, 4, 1536)   0           ['block6n_activation[0][0]',     \n",
            "                                                                  'block6n_se_expand[0][0]']      \n",
            "                                                                                                  \n",
            " block6n_project_conv (Conv2D)  (None, 4, 4, 256)    393216      ['block6n_se_excite[0][0]']      \n",
            "                                                                                                  \n",
            " block6n_project_bn (BatchNorma  (None, 4, 4, 256)   1024        ['block6n_project_conv[0][0]']   \n",
            " lization)                                                                                        \n",
            "                                                                                                  \n",
            " block6n_add (Add)              (None, 4, 4, 256)    0           ['block6n_project_bn[0][0]',     \n",
            "                                                                  'block6m_add[0][0]']            \n",
            "                                                                                                  \n",
            " block6o_expand_conv (Conv2D)   (None, 4, 4, 1536)   393216      ['block6n_add[0][0]']            \n",
            "                                                                                                  \n",
            " block6o_expand_bn (BatchNormal  (None, 4, 4, 1536)  6144        ['block6o_expand_conv[0][0]']    \n",
            " ization)                                                                                         \n",
            "                                                                                                  \n",
            " block6o_expand_activation (Act  (None, 4, 4, 1536)  0           ['block6o_expand_bn[0][0]']      \n",
            " ivation)                                                                                         \n",
            "                                                                                                  \n",
            " block6o_dwconv2 (DepthwiseConv  (None, 4, 4, 1536)  13824       ['block6o_expand_activation[0][0]\n",
            " 2D)                                                             ']                               \n",
            "                                                                                                  \n",
            " block6o_bn (BatchNormalization  (None, 4, 4, 1536)  6144        ['block6o_dwconv2[0][0]']        \n",
            " )                                                                                                \n",
            "                                                                                                  \n",
            " block6o_activation (Activation  (None, 4, 4, 1536)  0           ['block6o_bn[0][0]']             \n",
            " )                                                                                                \n",
            "                                                                                                  \n",
            " block6o_se_squeeze (GlobalAver  (None, 1536)        0           ['block6o_activation[0][0]']     \n",
            " agePooling2D)                                                                                    \n",
            "                                                                                                  \n",
            " block6o_se_reshape (Reshape)   (None, 1, 1, 1536)   0           ['block6o_se_squeeze[0][0]']     \n",
            "                                                                                                  \n",
            " block6o_se_reduce (Conv2D)     (None, 1, 1, 64)     98368       ['block6o_se_reshape[0][0]']     \n",
            "                                                                                                  \n",
            " block6o_se_expand (Conv2D)     (None, 1, 1, 1536)   99840       ['block6o_se_reduce[0][0]']      \n",
            "                                                                                                  \n",
            " block6o_se_excite (Multiply)   (None, 4, 4, 1536)   0           ['block6o_activation[0][0]',     \n",
            "                                                                  'block6o_se_expand[0][0]']      \n",
            "                                                                                                  \n",
            " block6o_project_conv (Conv2D)  (None, 4, 4, 256)    393216      ['block6o_se_excite[0][0]']      \n",
            "                                                                                                  \n",
            " block6o_project_bn (BatchNorma  (None, 4, 4, 256)   1024        ['block6o_project_conv[0][0]']   \n",
            " lization)                                                                                        \n",
            "                                                                                                  \n",
            " block6o_add (Add)              (None, 4, 4, 256)    0           ['block6o_project_bn[0][0]',     \n",
            "                                                                  'block6n_add[0][0]']            \n",
            "                                                                                                  \n",
            " top_conv (Conv2D)              (None, 4, 4, 1280)   327680      ['block6o_add[0][0]']            \n",
            "                                                                                                  \n",
            " top_bn (BatchNormalization)    (None, 4, 4, 1280)   5120        ['top_conv[0][0]']               \n",
            "                                                                                                  \n",
            " top_activation (Activation)    (None, 4, 4, 1280)   0           ['top_bn[0][0]']                 \n",
            "                                                                                                  \n",
            "==================================================================================================\n",
            "Total params: 20,331,360\n",
            "Trainable params: 330,752\n",
            "Non-trainable params: 20,000,608\n",
            "__________________________________________________________________________________________________\n"
          ]
        }
      ]
    },
    {
      "cell_type": "code",
      "source": [
        "from tensorflow.keras.models import Sequential\n",
        "from tensorflow.keras.layers import *\n",
        "\n",
        "my_model = Sequential([model,\n",
        "                       GlobalAveragePooling2D(),\n",
        "                       Dense(64, activation='relu')])\n",
        "\n",
        "my_model.summary()"
      ],
      "metadata": {
        "colab": {
          "base_uri": "https://localhost:8080/"
        },
        "id": "bbKvmQIYA2Gj",
        "outputId": "e1154ea6-be16-4ada-bda4-e15f6a7aeca5"
      },
      "execution_count": null,
      "outputs": [
        {
          "output_type": "stream",
          "name": "stdout",
          "text": [
            "Model: \"sequential\"\n",
            "_________________________________________________________________\n",
            " Layer (type)                Output Shape              Param #   \n",
            "=================================================================\n",
            " efficientnetv2-s (Functiona  (None, 4, 4, 1280)       20331360  \n",
            " l)                                                              \n",
            "                                                                 \n",
            " global_average_pooling2d (G  (None, 1280)             0         \n",
            " lobalAveragePooling2D)                                          \n",
            "                                                                 \n",
            " dense (Dense)               (None, 64)                81984     \n",
            "                                                                 \n",
            "=================================================================\n",
            "Total params: 20,413,344\n",
            "Trainable params: 412,736\n",
            "Non-trainable params: 20,000,608\n",
            "_________________________________________________________________\n"
          ]
        }
      ]
    },
    {
      "cell_type": "code",
      "source": [
        "from tensorflow.keras.models import Model\n",
        "\n",
        "img_input = Input((100, 100, 3))\n",
        "\n",
        "feature_vector = my_model(img_input)\n",
        "\n",
        "class_output_path = Dense(128, activation='relu')(feature_vector)\n",
        "class_output_path = Dense(10, activation='softmax',\n",
        "                          name='class')(class_output_path)\n",
        "\n",
        "\n",
        "\n",
        "box_output_path = Dense(32, activation='relu')(feature_vector)\n",
        "box_output_path = Dense(4, name='box')(box_output_path)\n",
        "\n",
        "model_1 = Model(inputs=img_input, outputs=[class_output_path,\n",
        "                                           box_output_path])\n",
        "\n",
        "model_1.summary()"
      ],
      "metadata": {
        "colab": {
          "base_uri": "https://localhost:8080/"
        },
        "id": "xqRHEAdWBB2u",
        "outputId": "752a32e4-6fb7-46a4-f543-c299988e049f"
      },
      "execution_count": null,
      "outputs": [
        {
          "output_type": "stream",
          "name": "stdout",
          "text": [
            "Model: \"model\"\n",
            "__________________________________________________________________________________________________\n",
            " Layer (type)                   Output Shape         Param #     Connected to                     \n",
            "==================================================================================================\n",
            " input_2 (InputLayer)           [(None, 100, 100, 3  0           []                               \n",
            "                                )]                                                                \n",
            "                                                                                                  \n",
            " sequential (Sequential)        (None, 64)           20413344    ['input_2[0][0]']                \n",
            "                                                                                                  \n",
            " dense_1 (Dense)                (None, 128)          8320        ['sequential[0][0]']             \n",
            "                                                                                                  \n",
            " dense_2 (Dense)                (None, 32)           2080        ['sequential[0][0]']             \n",
            "                                                                                                  \n",
            " class (Dense)                  (None, 10)           1290        ['dense_1[0][0]']                \n",
            "                                                                                                  \n",
            " box (Dense)                    (None, 4)            132         ['dense_2[0][0]']                \n",
            "                                                                                                  \n",
            "==================================================================================================\n",
            "Total params: 20,425,166\n",
            "Trainable params: 424,558\n",
            "Non-trainable params: 20,000,608\n",
            "__________________________________________________________________________________________________\n"
          ]
        }
      ]
    },
    {
      "cell_type": "code",
      "source": [
        "from tensorflow.keras.losses import MeanSquaredError, SparseCategoricalCrossentropy\n",
        "from tensorflow.keras.optimizers import Adam\n",
        "from tensorflow.keras.metrics import CategoricalAccuracy, MeanAbsoluteError\n",
        "\n",
        "model_1.compile(loss={'class': SparseCategoricalCrossentropy(),\n",
        "                      'box': MeanSquaredError()},\n",
        "                optimizer=Adam(learning_rate=0.001),\n",
        "                metrics={'class': ['accuracy'],\n",
        "                         'box': [MeanAbsoluteError()]},\n",
        "                loss_weights={'class':1, 'box':100})"
      ],
      "metadata": {
        "id": "Rm-5RIgvOEM0"
      },
      "execution_count": null,
      "outputs": []
    },
    {
      "cell_type": "code",
      "source": [
        "from tensorflow.keras.callbacks import EarlyStopping\n",
        "\n",
        "es = EarlyStopping(patience=1, monitor='val_loss')"
      ],
      "metadata": {
        "id": "ZlX6zvEAlytn"
      },
      "execution_count": null,
      "outputs": []
    },
    {
      "cell_type": "code",
      "source": [
        "model_1.fit(train_dataset, validation_data=val_dataset, epochs=1000, callbacks=[es])"
      ],
      "metadata": {
        "colab": {
          "base_uri": "https://localhost:8080/",
          "height": 383
        },
        "id": "lYMpdDsEguuk",
        "outputId": "acceb625-cb53-4b52-9685-5f430061fd0e"
      },
      "execution_count": null,
      "outputs": [
        {
          "output_type": "stream",
          "name": "stdout",
          "text": [
            "Epoch 1/1000\n",
            " 1699/15000 [==>...........................] - ETA: 31:47 - loss: 0.9057 - class_loss: 0.6130 - box_loss: 0.0029 - class_accuracy: 0.7962 - box_mean_absolute_error: 0.0418"
          ]
        },
        {
          "output_type": "error",
          "ename": "KeyboardInterrupt",
          "evalue": "ignored",
          "traceback": [
            "\u001b[0;31m---------------------------------------------------------------------------\u001b[0m",
            "\u001b[0;31mKeyboardInterrupt\u001b[0m                         Traceback (most recent call last)",
            "\u001b[0;32m<ipython-input-53-0d80311ea0b9>\u001b[0m in \u001b[0;36m<module>\u001b[0;34m\u001b[0m\n\u001b[0;32m----> 1\u001b[0;31m \u001b[0mmodel_1\u001b[0m\u001b[0;34m.\u001b[0m\u001b[0mfit\u001b[0m\u001b[0;34m(\u001b[0m\u001b[0mtrain_dataset\u001b[0m\u001b[0;34m,\u001b[0m \u001b[0mvalidation_data\u001b[0m\u001b[0;34m=\u001b[0m\u001b[0mval_dataset\u001b[0m\u001b[0;34m,\u001b[0m \u001b[0mepochs\u001b[0m\u001b[0;34m=\u001b[0m\u001b[0;36m1000\u001b[0m\u001b[0;34m,\u001b[0m \u001b[0mcallbacks\u001b[0m\u001b[0;34m=\u001b[0m\u001b[0;34m[\u001b[0m\u001b[0mes\u001b[0m\u001b[0;34m]\u001b[0m\u001b[0;34m)\u001b[0m\u001b[0;34m\u001b[0m\u001b[0;34m\u001b[0m\u001b[0m\n\u001b[0m",
            "\u001b[0;32m/usr/local/lib/python3.7/dist-packages/keras/utils/traceback_utils.py\u001b[0m in \u001b[0;36merror_handler\u001b[0;34m(*args, **kwargs)\u001b[0m\n\u001b[1;32m     62\u001b[0m     \u001b[0mfiltered_tb\u001b[0m \u001b[0;34m=\u001b[0m \u001b[0;32mNone\u001b[0m\u001b[0;34m\u001b[0m\u001b[0;34m\u001b[0m\u001b[0m\n\u001b[1;32m     63\u001b[0m     \u001b[0;32mtry\u001b[0m\u001b[0;34m:\u001b[0m\u001b[0;34m\u001b[0m\u001b[0;34m\u001b[0m\u001b[0m\n\u001b[0;32m---> 64\u001b[0;31m       \u001b[0;32mreturn\u001b[0m \u001b[0mfn\u001b[0m\u001b[0;34m(\u001b[0m\u001b[0;34m*\u001b[0m\u001b[0margs\u001b[0m\u001b[0;34m,\u001b[0m \u001b[0;34m**\u001b[0m\u001b[0mkwargs\u001b[0m\u001b[0;34m)\u001b[0m\u001b[0;34m\u001b[0m\u001b[0;34m\u001b[0m\u001b[0m\n\u001b[0m\u001b[1;32m     65\u001b[0m     \u001b[0;32mexcept\u001b[0m \u001b[0mException\u001b[0m \u001b[0;32mas\u001b[0m \u001b[0me\u001b[0m\u001b[0;34m:\u001b[0m  \u001b[0;31m# pylint: disable=broad-except\u001b[0m\u001b[0;34m\u001b[0m\u001b[0;34m\u001b[0m\u001b[0m\n\u001b[1;32m     66\u001b[0m       \u001b[0mfiltered_tb\u001b[0m \u001b[0;34m=\u001b[0m \u001b[0m_process_traceback_frames\u001b[0m\u001b[0;34m(\u001b[0m\u001b[0me\u001b[0m\u001b[0;34m.\u001b[0m\u001b[0m__traceback__\u001b[0m\u001b[0;34m)\u001b[0m\u001b[0;34m\u001b[0m\u001b[0;34m\u001b[0m\u001b[0m\n",
            "\u001b[0;32m/usr/local/lib/python3.7/dist-packages/keras/engine/training.py\u001b[0m in \u001b[0;36mfit\u001b[0;34m(self, x, y, batch_size, epochs, verbose, callbacks, validation_split, validation_data, shuffle, class_weight, sample_weight, initial_epoch, steps_per_epoch, validation_steps, validation_batch_size, validation_freq, max_queue_size, workers, use_multiprocessing)\u001b[0m\n\u001b[1;32m   1382\u001b[0m                 _r=1):\n\u001b[1;32m   1383\u001b[0m               \u001b[0mcallbacks\u001b[0m\u001b[0;34m.\u001b[0m\u001b[0mon_train_batch_begin\u001b[0m\u001b[0;34m(\u001b[0m\u001b[0mstep\u001b[0m\u001b[0;34m)\u001b[0m\u001b[0;34m\u001b[0m\u001b[0;34m\u001b[0m\u001b[0m\n\u001b[0;32m-> 1384\u001b[0;31m               \u001b[0mtmp_logs\u001b[0m \u001b[0;34m=\u001b[0m \u001b[0mself\u001b[0m\u001b[0;34m.\u001b[0m\u001b[0mtrain_function\u001b[0m\u001b[0;34m(\u001b[0m\u001b[0miterator\u001b[0m\u001b[0;34m)\u001b[0m\u001b[0;34m\u001b[0m\u001b[0;34m\u001b[0m\u001b[0m\n\u001b[0m\u001b[1;32m   1385\u001b[0m               \u001b[0;32mif\u001b[0m \u001b[0mdata_handler\u001b[0m\u001b[0;34m.\u001b[0m\u001b[0mshould_sync\u001b[0m\u001b[0;34m:\u001b[0m\u001b[0;34m\u001b[0m\u001b[0;34m\u001b[0m\u001b[0m\n\u001b[1;32m   1386\u001b[0m                 \u001b[0mcontext\u001b[0m\u001b[0;34m.\u001b[0m\u001b[0masync_wait\u001b[0m\u001b[0;34m(\u001b[0m\u001b[0;34m)\u001b[0m\u001b[0;34m\u001b[0m\u001b[0;34m\u001b[0m\u001b[0m\n",
            "\u001b[0;32m/usr/local/lib/python3.7/dist-packages/tensorflow/python/util/traceback_utils.py\u001b[0m in \u001b[0;36merror_handler\u001b[0;34m(*args, **kwargs)\u001b[0m\n\u001b[1;32m    148\u001b[0m     \u001b[0mfiltered_tb\u001b[0m \u001b[0;34m=\u001b[0m \u001b[0;32mNone\u001b[0m\u001b[0;34m\u001b[0m\u001b[0;34m\u001b[0m\u001b[0m\n\u001b[1;32m    149\u001b[0m     \u001b[0;32mtry\u001b[0m\u001b[0;34m:\u001b[0m\u001b[0;34m\u001b[0m\u001b[0;34m\u001b[0m\u001b[0m\n\u001b[0;32m--> 150\u001b[0;31m       \u001b[0;32mreturn\u001b[0m \u001b[0mfn\u001b[0m\u001b[0;34m(\u001b[0m\u001b[0;34m*\u001b[0m\u001b[0margs\u001b[0m\u001b[0;34m,\u001b[0m \u001b[0;34m**\u001b[0m\u001b[0mkwargs\u001b[0m\u001b[0;34m)\u001b[0m\u001b[0;34m\u001b[0m\u001b[0;34m\u001b[0m\u001b[0m\n\u001b[0m\u001b[1;32m    151\u001b[0m     \u001b[0;32mexcept\u001b[0m \u001b[0mException\u001b[0m \u001b[0;32mas\u001b[0m \u001b[0me\u001b[0m\u001b[0;34m:\u001b[0m\u001b[0;34m\u001b[0m\u001b[0;34m\u001b[0m\u001b[0m\n\u001b[1;32m    152\u001b[0m       \u001b[0mfiltered_tb\u001b[0m \u001b[0;34m=\u001b[0m \u001b[0m_process_traceback_frames\u001b[0m\u001b[0;34m(\u001b[0m\u001b[0me\u001b[0m\u001b[0;34m.\u001b[0m\u001b[0m__traceback__\u001b[0m\u001b[0;34m)\u001b[0m\u001b[0;34m\u001b[0m\u001b[0;34m\u001b[0m\u001b[0m\n",
            "\u001b[0;32m/usr/local/lib/python3.7/dist-packages/tensorflow/python/eager/def_function.py\u001b[0m in \u001b[0;36m__call__\u001b[0;34m(self, *args, **kwds)\u001b[0m\n\u001b[1;32m    913\u001b[0m \u001b[0;34m\u001b[0m\u001b[0m\n\u001b[1;32m    914\u001b[0m       \u001b[0;32mwith\u001b[0m \u001b[0mOptionalXlaContext\u001b[0m\u001b[0;34m(\u001b[0m\u001b[0mself\u001b[0m\u001b[0;34m.\u001b[0m\u001b[0m_jit_compile\u001b[0m\u001b[0;34m)\u001b[0m\u001b[0;34m:\u001b[0m\u001b[0;34m\u001b[0m\u001b[0;34m\u001b[0m\u001b[0m\n\u001b[0;32m--> 915\u001b[0;31m         \u001b[0mresult\u001b[0m \u001b[0;34m=\u001b[0m \u001b[0mself\u001b[0m\u001b[0;34m.\u001b[0m\u001b[0m_call\u001b[0m\u001b[0;34m(\u001b[0m\u001b[0;34m*\u001b[0m\u001b[0margs\u001b[0m\u001b[0;34m,\u001b[0m \u001b[0;34m**\u001b[0m\u001b[0mkwds\u001b[0m\u001b[0;34m)\u001b[0m\u001b[0;34m\u001b[0m\u001b[0;34m\u001b[0m\u001b[0m\n\u001b[0m\u001b[1;32m    916\u001b[0m \u001b[0;34m\u001b[0m\u001b[0m\n\u001b[1;32m    917\u001b[0m       \u001b[0mnew_tracing_count\u001b[0m \u001b[0;34m=\u001b[0m \u001b[0mself\u001b[0m\u001b[0;34m.\u001b[0m\u001b[0mexperimental_get_tracing_count\u001b[0m\u001b[0;34m(\u001b[0m\u001b[0;34m)\u001b[0m\u001b[0;34m\u001b[0m\u001b[0;34m\u001b[0m\u001b[0m\n",
            "\u001b[0;32m/usr/local/lib/python3.7/dist-packages/tensorflow/python/eager/def_function.py\u001b[0m in \u001b[0;36m_call\u001b[0;34m(self, *args, **kwds)\u001b[0m\n\u001b[1;32m    945\u001b[0m       \u001b[0;31m# In this case we have created variables on the first call, so we run the\u001b[0m\u001b[0;34m\u001b[0m\u001b[0;34m\u001b[0m\u001b[0;34m\u001b[0m\u001b[0m\n\u001b[1;32m    946\u001b[0m       \u001b[0;31m# defunned version which is guaranteed to never create variables.\u001b[0m\u001b[0;34m\u001b[0m\u001b[0;34m\u001b[0m\u001b[0;34m\u001b[0m\u001b[0m\n\u001b[0;32m--> 947\u001b[0;31m       \u001b[0;32mreturn\u001b[0m \u001b[0mself\u001b[0m\u001b[0;34m.\u001b[0m\u001b[0m_stateless_fn\u001b[0m\u001b[0;34m(\u001b[0m\u001b[0;34m*\u001b[0m\u001b[0margs\u001b[0m\u001b[0;34m,\u001b[0m \u001b[0;34m**\u001b[0m\u001b[0mkwds\u001b[0m\u001b[0;34m)\u001b[0m  \u001b[0;31m# pylint: disable=not-callable\u001b[0m\u001b[0;34m\u001b[0m\u001b[0;34m\u001b[0m\u001b[0m\n\u001b[0m\u001b[1;32m    948\u001b[0m     \u001b[0;32melif\u001b[0m \u001b[0mself\u001b[0m\u001b[0;34m.\u001b[0m\u001b[0m_stateful_fn\u001b[0m \u001b[0;32mis\u001b[0m \u001b[0;32mnot\u001b[0m \u001b[0;32mNone\u001b[0m\u001b[0;34m:\u001b[0m\u001b[0;34m\u001b[0m\u001b[0;34m\u001b[0m\u001b[0m\n\u001b[1;32m    949\u001b[0m       \u001b[0;31m# Release the lock early so that multiple threads can perform the call\u001b[0m\u001b[0;34m\u001b[0m\u001b[0;34m\u001b[0m\u001b[0;34m\u001b[0m\u001b[0m\n",
            "\u001b[0;32m/usr/local/lib/python3.7/dist-packages/tensorflow/python/eager/function.py\u001b[0m in \u001b[0;36m__call__\u001b[0;34m(self, *args, **kwargs)\u001b[0m\n\u001b[1;32m   2955\u001b[0m        filtered_flat_args) = self._maybe_define_function(args, kwargs)\n\u001b[1;32m   2956\u001b[0m     return graph_function._call_flat(\n\u001b[0;32m-> 2957\u001b[0;31m         filtered_flat_args, captured_inputs=graph_function.captured_inputs)  # pylint: disable=protected-access\n\u001b[0m\u001b[1;32m   2958\u001b[0m \u001b[0;34m\u001b[0m\u001b[0m\n\u001b[1;32m   2959\u001b[0m   \u001b[0;34m@\u001b[0m\u001b[0mproperty\u001b[0m\u001b[0;34m\u001b[0m\u001b[0;34m\u001b[0m\u001b[0m\n",
            "\u001b[0;32m/usr/local/lib/python3.7/dist-packages/tensorflow/python/eager/function.py\u001b[0m in \u001b[0;36m_call_flat\u001b[0;34m(self, args, captured_inputs, cancellation_manager)\u001b[0m\n\u001b[1;32m   1852\u001b[0m       \u001b[0;31m# No tape is watching; skip to running the function.\u001b[0m\u001b[0;34m\u001b[0m\u001b[0;34m\u001b[0m\u001b[0;34m\u001b[0m\u001b[0m\n\u001b[1;32m   1853\u001b[0m       return self._build_call_outputs(self._inference_function.call(\n\u001b[0;32m-> 1854\u001b[0;31m           ctx, args, cancellation_manager=cancellation_manager))\n\u001b[0m\u001b[1;32m   1855\u001b[0m     forward_backward = self._select_forward_and_backward_functions(\n\u001b[1;32m   1856\u001b[0m         \u001b[0margs\u001b[0m\u001b[0;34m,\u001b[0m\u001b[0;34m\u001b[0m\u001b[0;34m\u001b[0m\u001b[0m\n",
            "\u001b[0;32m/usr/local/lib/python3.7/dist-packages/tensorflow/python/eager/function.py\u001b[0m in \u001b[0;36mcall\u001b[0;34m(self, ctx, args, cancellation_manager)\u001b[0m\n\u001b[1;32m    502\u001b[0m               \u001b[0minputs\u001b[0m\u001b[0;34m=\u001b[0m\u001b[0margs\u001b[0m\u001b[0;34m,\u001b[0m\u001b[0;34m\u001b[0m\u001b[0;34m\u001b[0m\u001b[0m\n\u001b[1;32m    503\u001b[0m               \u001b[0mattrs\u001b[0m\u001b[0;34m=\u001b[0m\u001b[0mattrs\u001b[0m\u001b[0;34m,\u001b[0m\u001b[0;34m\u001b[0m\u001b[0;34m\u001b[0m\u001b[0m\n\u001b[0;32m--> 504\u001b[0;31m               ctx=ctx)\n\u001b[0m\u001b[1;32m    505\u001b[0m         \u001b[0;32melse\u001b[0m\u001b[0;34m:\u001b[0m\u001b[0;34m\u001b[0m\u001b[0;34m\u001b[0m\u001b[0m\n\u001b[1;32m    506\u001b[0m           outputs = execute.execute_with_cancellation(\n",
            "\u001b[0;32m/usr/local/lib/python3.7/dist-packages/tensorflow/python/eager/execute.py\u001b[0m in \u001b[0;36mquick_execute\u001b[0;34m(op_name, num_outputs, inputs, attrs, ctx, name)\u001b[0m\n\u001b[1;32m     53\u001b[0m     \u001b[0mctx\u001b[0m\u001b[0;34m.\u001b[0m\u001b[0mensure_initialized\u001b[0m\u001b[0;34m(\u001b[0m\u001b[0;34m)\u001b[0m\u001b[0;34m\u001b[0m\u001b[0;34m\u001b[0m\u001b[0m\n\u001b[1;32m     54\u001b[0m     tensors = pywrap_tfe.TFE_Py_Execute(ctx._handle, device_name, op_name,\n\u001b[0;32m---> 55\u001b[0;31m                                         inputs, attrs, num_outputs)\n\u001b[0m\u001b[1;32m     56\u001b[0m   \u001b[0;32mexcept\u001b[0m \u001b[0mcore\u001b[0m\u001b[0;34m.\u001b[0m\u001b[0m_NotOkStatusException\u001b[0m \u001b[0;32mas\u001b[0m \u001b[0me\u001b[0m\u001b[0;34m:\u001b[0m\u001b[0;34m\u001b[0m\u001b[0;34m\u001b[0m\u001b[0m\n\u001b[1;32m     57\u001b[0m     \u001b[0;32mif\u001b[0m \u001b[0mname\u001b[0m \u001b[0;32mis\u001b[0m \u001b[0;32mnot\u001b[0m \u001b[0;32mNone\u001b[0m\u001b[0;34m:\u001b[0m\u001b[0;34m\u001b[0m\u001b[0;34m\u001b[0m\u001b[0m\n",
            "\u001b[0;31mKeyboardInterrupt\u001b[0m: "
          ]
        }
      ]
    },
    {
      "cell_type": "code",
      "source": [
        " # To save your trained model:\n",
        "\n",
        " # model_1.save('model')"
      ],
      "metadata": {
        "id": "dPbKiRcjpzGc"
      },
      "execution_count": null,
      "outputs": []
    },
    {
      "cell_type": "code",
      "source": [
        "# To downlaod your saved model, zip with code below then download\n",
        "\n",
        "# !zip -r model.zip model"
      ],
      "metadata": {
        "colab": {
          "base_uri": "https://localhost:8080/"
        },
        "id": "zTbbT-z8eNTF",
        "outputId": "aef45e04-2e97-4d2f-a007-a49e7b297fff"
      },
      "execution_count": null,
      "outputs": [
        {
          "output_type": "stream",
          "name": "stdout",
          "text": [
            "  adding: model/ (stored 0%)\n",
            "  adding: model/keras_metadata.pb (deflated 97%)\n",
            "  adding: model/variables/ (stored 0%)\n",
            "  adding: model/variables/variables.data-00000-of-00001 (deflated 8%)\n",
            "  adding: model/variables/variables.index (deflated 77%)\n",
            "  adding: model/saved_model.pb (deflated 92%)\n",
            "  adding: model/assets/ (stored 0%)\n"
          ]
        }
      ]
    },
    {
      "cell_type": "code",
      "source": [
        "# Link to my model.zip: https://drive.google.com/drive/folders/1-Pj68oZEXeM4QZdB5xqqKaEZlAjHzy2e?usp=sharing"
      ],
      "metadata": {
        "id": "VpiMae9HTLyK"
      },
      "execution_count": null,
      "outputs": []
    },
    {
      "cell_type": "code",
      "source": [
        "# To unzip a zipped model folder:\n",
        "\n",
        "# !unzip model.zip"
      ],
      "metadata": {
        "colab": {
          "base_uri": "https://localhost:8080/"
        },
        "id": "smaD66T7rq_1",
        "outputId": "5949ba64-cb12-43d1-b3c8-0b3931d37850"
      },
      "execution_count": null,
      "outputs": [
        {
          "output_type": "stream",
          "name": "stdout",
          "text": [
            "Archive:  model.zip\n",
            "replace model/keras_metadata.pb? [y]es, [n]o, [A]ll, [N]one, [r]ename: A\n",
            "  inflating: model/keras_metadata.pb  \n",
            "  inflating: model/variables/variables.data-00000-of-00001  \n",
            "  inflating: model/variables/variables.index  \n",
            "  inflating: model/saved_model.pb    \n"
          ]
        }
      ]
    },
    {
      "cell_type": "code",
      "source": [
        "# To load a model back in memory from an unzipped model folder:\n",
        "\n",
        "# model_1 = tf.keras.models.load_model('model')\n",
        "\n",
        "# model_1"
      ],
      "metadata": {
        "colab": {
          "base_uri": "https://localhost:8080/"
        },
        "id": "CPb4Oa2ssdy9",
        "outputId": "019c6eba-c006-4fcb-dee1-45781b287bba"
      },
      "execution_count": null,
      "outputs": [
        {
          "output_type": "execute_result",
          "data": {
            "text/plain": [
              "<keras.engine.functional.Functional at 0x7f7bdbc82110>"
            ]
          },
          "metadata": {},
          "execution_count": 94
        }
      ]
    },
    {
      "cell_type": "code",
      "source": [
        "row_1 = test_df.iloc[2].to_numpy().tolist()\n",
        "\n",
        "im = load_image_for_vis(row_1[0])\n",
        "fig, ax = plt.subplots()\n",
        "ax.imshow(im)\n",
        "\n",
        "x1, y1, x2, y2 = [int(v*100) for v in row_1[2:]]\n",
        "print(x1, y1, x2, y2)\n",
        "width = x2 - x1\n",
        "height = y2 - y1\n",
        "\n",
        "print(width, height)\n",
        "# x, y, width, height\n",
        "rect = patches.Rectangle((x1, y1), width, height, linewidth=1, edgecolor='r', facecolor='none')\n",
        "ax.add_patch(rect)\n",
        "\n",
        "plt.show()"
      ],
      "metadata": {
        "id": "aGHz4sONknYL",
        "colab": {
          "base_uri": "https://localhost:8080/",
          "height": 303
        },
        "outputId": "1f48f04d-b97e-4cc0-ab4e-17e09454dce7"
      },
      "execution_count": null,
      "outputs": [
        {
          "output_type": "stream",
          "name": "stdout",
          "text": [
            "15 49 43 77\n",
            "28 28\n"
          ]
        },
        {
          "output_type": "display_data",
          "data": {
            "text/plain": [
              "<Figure size 432x288 with 1 Axes>"
            ],
            "image/png": "[encoded data removed]"
          },
          "metadata": {
            "needs_background": "light"
          }
        }
      ]
    },
    {
      "cell_type": "code",
      "source": [
        "np.array([load_image_for_vis(row_1[0])]).shape"
      ],
      "metadata": {
        "colab": {
          "base_uri": "https://localhost:8080/"
        },
        "id": "FjLoJzakeu4O",
        "outputId": "2284cea6-86a6-46f0-9328-10c1ec7379d7"
      },
      "execution_count": null,
      "outputs": [
        {
          "output_type": "execute_result",
          "data": {
            "text/plain": [
              "(1, 100, 100, 3)"
            ]
          },
          "metadata": {},
          "execution_count": 48
        }
      ]
    },
    {
      "cell_type": "code",
      "source": [
        "img = np.array([load_image_for_vis(row_1[0])])\n",
        "\n",
        "prediction_array = model_1.predict(img)\n",
        "prediction_array"
      ],
      "metadata": {
        "colab": {
          "base_uri": "https://localhost:8080/"
        },
        "id": "fMVxXKyleyLy",
        "outputId": "c16459b5-9079-4337-fa28-1d105be267ea"
      },
      "execution_count": null,
      "outputs": [
        {
          "output_type": "execute_result",
          "data": {
            "text/plain": [
              "[array([[3.3891798e-04, 1.1996742e-03, 6.5498149e-01, 2.5052587e-03,\n",
              "         2.3624101e-03, 1.9797817e-01, 1.4829485e-02, 1.2163697e-01,\n",
              "         8.3003676e-04, 3.3376636e-03]], dtype=float32),\n",
              " array([[0.16877832, 0.45548257, 0.41187245, 0.67109454]], dtype=float32)]"
            ]
          },
          "metadata": {},
          "execution_count": 49
        }
      ]
    },
    {
      "cell_type": "code",
      "source": [
        "predicted_box = prediction_array[1].tolist()[0]\n",
        "predicted_class = np.argmax(prediction_array[0].tolist()[0])\n",
        "\n",
        "predicted_class, predicted_box"
      ],
      "metadata": {
        "colab": {
          "base_uri": "https://localhost:8080/"
        },
        "id": "zbTZHhmae0U-",
        "outputId": "4b377b00-a0cc-498e-f2a3-3d8cffc46003"
      },
      "execution_count": null,
      "outputs": [
        {
          "output_type": "execute_result",
          "data": {
            "text/plain": [
              "(2,\n",
              " [0.16877831518650055,\n",
              "  0.4554825723171234,\n",
              "  0.4118724465370178,\n",
              "  0.671094536781311])"
            ]
          },
          "metadata": {},
          "execution_count": 50
        }
      ]
    },
    {
      "cell_type": "code",
      "source": [
        "im = load_image_for_vis(row_1[0])\n",
        "fig, ax = plt.subplots()\n",
        "ax.imshow(im)\n",
        "\n",
        "x1, y1, x2, y2 = [int(v*100) for v in predicted_box]\n",
        "print(x1, y1, x2, y2)\n",
        "width = x2 - x1\n",
        "height = y2 - y1\n",
        "\n",
        "print(width, height)\n",
        "# x, y, width, height\n",
        "rect = patches.Rectangle((x1, y1), width, height, linewidth=1, edgecolor='r', facecolor='none')\n",
        "ax.add_patch(rect)\n",
        "\n",
        "plt.show()"
      ],
      "metadata": {
        "colab": {
          "base_uri": "https://localhost:8080/",
          "height": 303
        },
        "id": "y3TOgOVEe2Au",
        "outputId": "083cad5f-97b7-4303-a775-ea924c526235"
      },
      "execution_count": null,
      "outputs": [
        {
          "output_type": "stream",
          "name": "stdout",
          "text": [
            "16 45 41 67\n",
            "25 22\n"
          ]
        },
        {
          "output_type": "display_data",
          "data": {
            "text/plain": [
              "<Figure size 432x288 with 1 Axes>"
            ],
            "image/png": "[encoded data removed]"
          },
          "metadata": {
            "needs_background": "light"
          }
        }
      ]
    },
    {
      "cell_type": "code",
      "source": [
        "plt.imshow(im[y1:y2, x1:x2])"
      ],
      "metadata": {
        "colab": {
          "base_uri": "https://localhost:8080/",
          "height": 282
        },
        "id": "7JMJDPP6e64f",
        "outputId": "3fe96383-c1b6-4be5-f649-680d2fb5f5e7"
      },
      "execution_count": null,
      "outputs": [
        {
          "output_type": "execute_result",
          "data": {
            "text/plain": [
              "<matplotlib.image.AxesImage at 0x7f21ca91c610>"
            ]
          },
          "metadata": {},
          "execution_count": 52
        },
        {
          "output_type": "display_data",
          "data": {
            "text/plain": [
              "<Figure size 432x288 with 1 Axes>"
            ],
            "image/png": "[encoded data removed]"
          },
          "metadata": {
            "needs_background": "light"
          }
        }
      ]
    }
  ]
}